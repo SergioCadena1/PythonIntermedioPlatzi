{
 "cells": [
  {
   "cell_type": "markdown",
   "source": "<h1>Escalamiento de datos numericos\n\n<h1>\n\n<p> Transformaciones lineales </p>",
   "metadata": {
    "cell_id": "2c1041a7897d4a23b4029dd3ed126061",
    "tags": [],
    "deepnote_cell_type": "markdown",
    "deepnote_cell_height": 104.390625
   }
  },
  {
   "cell_type": "code",
   "metadata": {
    "tags": [],
    "cell_id": "8c88c4ac-8c4d-428e-9bf6-3c6c42a46310",
    "deepnote_to_be_reexecuted": false,
    "source_hash": "5cead8e3",
    "execution_start": 1657062775151,
    "execution_millis": 0,
    "deepnote_cell_type": "code",
    "deepnote_cell_height": 207
   },
   "source": "import timeit\nimport numpy as np\nimport pandas as pd\nimport matplotlib.pyplot as plt\nfrom sklearn import datasets, linear_model\n\nX, y = datasets.load_diabetes(return_X_y=True)\nraw = X[:,None,2]",
   "outputs": [],
   "execution_count": null
  },
  {
   "cell_type": "code",
   "source": "# Reglas de escalamiento\nmax_raw = raw.max()\nmin_raw = raw.min()\n\nXs = (2*raw - min_raw - max_raw)/ (max_raw - min_raw)",
   "metadata": {
    "cell_id": "92021e2d812e4892b4336e31af81d401",
    "tags": [],
    "deepnote_to_be_reexecuted": false,
    "source_hash": "fa2fd9ad",
    "execution_start": 1657060855519,
    "execution_millis": 1,
    "deepnote_cell_type": "code",
    "deepnote_cell_height": 153,
    "deepnote_output_heights": [
     611,
     251.4375
    ]
   },
   "outputs": [],
   "execution_count": null
  },
  {
   "cell_type": "code",
   "source": "fig, ax = plt.subplots(2,1,sharex=True, figsize=(10,6))\nax[0].hist(x=Xs)\nax[0].set_title(\"Scaled\")\nax[1].hist(x=raw)\nax[1].set_title(\"Origin\")\n\nplt.show()",
   "metadata": {
    "cell_id": "01e93611d4da497f9983173fc0c2164c",
    "tags": [],
    "deepnote_to_be_reexecuted": false,
    "source_hash": "92887c29",
    "execution_start": 1657061121066,
    "execution_millis": 42,
    "deepnote_cell_type": "code",
    "deepnote_cell_height": 580,
    "deepnote_output_heights": [
     375,
     363
    ]
   },
   "outputs": [
    {
     "data": {
      "text/plain": "<Figure size 720x432 with 2 Axes>",
      "image/png": "[encoded data removed]"
     },
     "metadata": {
      "needs_background": "light",
      "image/png": {
       "width": 598,
       "height": 373
      }
     },
     "output_type": "display_data"
    }
   ],
   "execution_count": null
  },
  {
   "cell_type": "code",
   "source": "# Modelos de entrenamiento\n\ndef train_model_raw():\n    linear_model.LinearRegression().fit(raw,y)\n\ndef train_model_scaled():\n    linear_model.LinearRegression().fit(Xs,y)",
   "metadata": {
    "cell_id": "53c0df01ef4f4de69465d5265d0c0cf7",
    "tags": [],
    "deepnote_to_be_reexecuted": false,
    "source_hash": "658e089",
    "execution_start": 1657062780460,
    "execution_millis": 1,
    "deepnote_cell_type": "code",
    "deepnote_cell_height": 189
   },
   "outputs": [],
   "execution_count": null
  },
  {
   "cell_type": "code",
   "source": "raw_time = timeit.timeit(train_model_raw, number=100)\nscaled_time = timeit.timeit(train_model_scaled, number=100)\nprint('Train raw : {}'.format(raw_time))\nprint('Train scaled : {}'.format(scaled_time))",
   "metadata": {
    "cell_id": "e36b1b8303f9406abe365e5c2ad9fb65",
    "tags": [],
    "deepnote_to_be_reexecuted": false,
    "source_hash": "e479a27",
    "execution_start": 1657062783215,
    "execution_millis": 114,
    "deepnote_cell_type": "code",
    "deepnote_cell_height": 186.375
   },
   "outputs": [
    {
     "name": "stdout",
     "text": "Train raw : 0.060466228000223055\nTrain scaled : 0.052178636000462575\n",
     "output_type": "stream"
    }
   ],
   "execution_count": null
  },
  {
   "cell_type": "code",
   "source": "## Z-score\nmean = raw.mean()\ndstd = raw.std()\nZscore = (raw - mean)/dstd",
   "metadata": {
    "cell_id": "416435fd982d44aa80dab038234af869",
    "tags": [],
    "deepnote_to_be_reexecuted": false,
    "source_hash": "beaa4b0f",
    "execution_start": 1657062786238,
    "execution_millis": 1,
    "deepnote_cell_type": "code",
    "deepnote_cell_height": 135
   },
   "outputs": [],
   "execution_count": null
  },
  {
   "cell_type": "code",
   "source": "fig, ax = plt.subplots(2,1,sharex=True, figsize=(10,6))\nax[0].hist(Zscore)\nax[0].set_title('Zscore')\nax[1].hist(raw)\nax[1].set_title('raw')",
   "metadata": {
    "cell_id": "f8e71a24096d4a2c9852e2b943d325d4",
    "tags": [],
    "deepnote_to_be_reexecuted": false,
    "source_hash": "81d66f55",
    "execution_start": 1657062787119,
    "execution_millis": 281,
    "deepnote_cell_type": "code",
    "deepnote_cell_height": 596.1875,
    "deepnote_output_heights": [
     21.1875,
     375
    ]
   },
   "outputs": [
    {
     "output_type": "execute_result",
     "execution_count": 46,
     "data": {
      "text/plain": "Text(0.5, 1.0, 'raw')"
     },
     "metadata": {}
    },
    {
     "data": {
      "text/plain": "<Figure size 720x432 with 2 Axes>",
      "image/png": "[encoded data removed]"
     },
     "metadata": {
      "needs_background": "light",
      "image/png": {
       "width": 598,
       "height": 373
      }
     },
     "output_type": "display_data"
    }
   ],
   "execution_count": null
  },
  {
   "cell_type": "code",
   "source": "def train_model_raw2():\n    linear_model.LinearRegression().fit(raw,y)\n\n\ndef train_model_Zscore():\n    linear_model.LinearRegression().fit(Zscore,y)",
   "metadata": {
    "cell_id": "3e6a0ee951a64fc0ae49002e6aafd7c8",
    "tags": [],
    "deepnote_to_be_reexecuted": false,
    "source_hash": "c6ff7a8c",
    "execution_start": 1657062878868,
    "execution_millis": 0,
    "deepnote_cell_type": "code",
    "deepnote_cell_height": 171
   },
   "outputs": [],
   "execution_count": null
  },
  {
   "cell_type": "code",
   "source": "raw_time2 = timeit.timeit(train_model_raw, number=100)\nzscore_time = timeit.timeit(train_model_Zscore, number=100)\nprint(\"time raw : {}\".format(raw_time2))\nprint(\"time Zscore : {}\".format(zscore_time))",
   "metadata": {
    "cell_id": "e85bbef75e074a83a802bb85d320065c",
    "tags": [],
    "deepnote_to_be_reexecuted": false,
    "source_hash": "51d3cdd2",
    "execution_start": 1657062880444,
    "execution_millis": 104,
    "deepnote_cell_type": "code",
    "deepnote_cell_height": 186.375,
    "deepnote_output_heights": [
     21.1875
    ]
   },
   "outputs": [
    {
     "name": "stdout",
     "text": "time raw : 0.06113424200157169\ntime Zscore : 0.050991307998629054\n",
     "output_type": "stream"
    }
   ],
   "execution_count": null
  },
  {
   "cell_type": "code",
   "source": "# Transformaciones no lineales\n\ndf = pd.read_csv('/work/cars.csv')",
   "metadata": {
    "cell_id": "adbd53fbd53d4ce2801a2ef1661a788d",
    "tags": [],
    "deepnote_to_be_reexecuted": false,
    "source_hash": "cfdf17d5",
    "execution_start": 1657063267393,
    "execution_millis": 185,
    "deepnote_cell_type": "code",
    "deepnote_cell_height": 117
   },
   "outputs": [],
   "execution_count": null
  },
  {
   "cell_type": "code",
   "source": "df.price_usd.hist()",
   "metadata": {
    "cell_id": "a5a392ff69e44de0864fe0567782c8da",
    "tags": [],
    "deepnote_to_be_reexecuted": false,
    "source_hash": "1d9343bd",
    "execution_start": 1657063296541,
    "execution_millis": 206,
    "deepnote_cell_type": "code",
    "deepnote_cell_height": 399.1875,
    "deepnote_output_heights": [
     21.1875,
     250
    ]
   },
   "outputs": [
    {
     "output_type": "execute_result",
     "execution_count": 53,
     "data": {
      "text/plain": "<AxesSubplot:>"
     },
     "metadata": {}
    },
    {
     "data": {
      "text/plain": "<Figure size 432x288 with 1 Axes>",
      "image/png": "[encoded data removed]"
     },
     "metadata": {
      "needs_background": "light",
      "image/png": {
       "width": 388,
       "height": 248
      }
     },
     "output_type": "display_data"
    }
   ],
   "execution_count": null
  },
  {
   "cell_type": "code",
   "source": "## Tangente Hiperbolica\np=10000\nXtanh = df.price_usd.apply(lambda x : np.tanh(x/p))",
   "metadata": {
    "cell_id": "bf607bc1e1264d6497af03d29e35803f",
    "tags": [],
    "deepnote_to_be_reexecuted": false,
    "source_hash": "3c9147d",
    "execution_start": 1657063714513,
    "execution_millis": 42,
    "deepnote_cell_type": "code",
    "deepnote_cell_height": 117
   },
   "outputs": [],
   "execution_count": null
  },
  {
   "cell_type": "code",
   "source": "fig, ax = plt.subplots(sharex= True, figsize=(10,6))\n\"\"\"ax[0].hist(df.price_usd)\nax[0].set_title('Precio_usd')\n\"\"\"\nax.hist(Xtanh)\nax.set_title('Xtanh')",
   "metadata": {
    "cell_id": "88c2ad6de68f4042aa694127f8605cb8",
    "tags": [],
    "deepnote_to_be_reexecuted": false,
    "source_hash": "c315abf4",
    "execution_start": 1657063716553,
    "execution_millis": 184,
    "deepnote_cell_type": "code",
    "deepnote_cell_height": 614.1875,
    "deepnote_output_heights": [
     21.1875,
     375
    ]
   },
   "outputs": [
    {
     "output_type": "execute_result",
     "execution_count": 65,
     "data": {
      "text/plain": "Text(0.5, 1.0, 'Xtanh')"
     },
     "metadata": {}
    },
    {
     "data": {
      "text/plain": "<Figure size 720x432 with 1 Axes>",
      "image/png": "[encoded data removed]"
     },
     "metadata": {
      "needs_background": "light",
      "image/png": {
       "width": 604,
       "height": 373
      }
     },
     "output_type": "display_data"
    }
   ],
   "execution_count": null
  },
  {
   "cell_type": "code",
   "source": "",
   "metadata": {
    "cell_id": "f50f11f4e901418bb3a0e6ff675de55a",
    "tags": [],
    "owner_user_id": "03000505-9e43-428e-bc53-63fa13571714",
    "deepnote_cell_type": "code",
    "deepnote_cell_height": 66
   },
   "outputs": [],
   "execution_count": null
  },
  {
   "cell_type": "markdown",
   "source": "<a style='text-decoration:none;line-height:16px;display:flex;color:#5B5B62;padding:10px;justify-content:end;' href='https://deepnote.com?utm_source=created-in-deepnote-cell&projectId=b38c647e-97e2-40dc-b8c0-b6343a083801' target=\"_blank\">\n<img alt='Created in deepnote.com' style='display:inline;max-height:16px;margin:0px;margin-right:7.5px;' src='data:image/svg+xml;base64,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' > </img>\nCreated in <span style='font-weight:600;margin-left:4px;'>Deepnote</span></a>",
   "metadata": {
    "tags": [],
    "created_in_deepnote_cell": true,
    "deepnote_cell_type": "markdown"
   }
  }
 ],
 "nbformat": 4,
 "nbformat_minor": 2,
 "metadata": {
  "orig_nbformat": 2,
  "deepnote": {},
  "deepnote_notebook_id": "33bf6d55-1d45-4937-a888-7a56b1b96259",
  "deepnote_execution_queue": []
 }
}