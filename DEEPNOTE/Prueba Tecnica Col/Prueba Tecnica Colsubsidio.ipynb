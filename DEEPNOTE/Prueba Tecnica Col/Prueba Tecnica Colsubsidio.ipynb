{
 "cells": [
  {
   "cell_type": "code",
   "metadata": {
    "tags": [],
    "cell_id": "d91560c6-6377-4b69-af02-7175808eb3f8",
    "deepnote_to_be_reexecuted": false,
    "source_hash": "24b26b86",
    "execution_start": 1659307225408,
    "execution_millis": 2662,
    "deepnote_cell_type": "code",
    "deepnote_cell_height": 130
   },
   "source": "import pandas as pd\nimport numpy as np\nimport matplotlib.pyplot as plt\nimport seaborn as sns",
   "outputs": [],
   "execution_count": null
  },
  {
   "cell_type": "code",
   "metadata": {
    "cell_id": "3f43e303bfdf4aaa9f49c66dcc6467d5",
    "tags": [],
    "deepnote_to_be_reexecuted": false,
    "source_hash": "2b65608b",
    "execution_start": 1659307259685,
    "execution_millis": 180,
    "deepnote_cell_type": "code",
    "deepnote_cell_height": 81
   },
   "source": "df_prueba = pd.read_csv('/work/Prueba_Colsubsidio.csv',delimiter=',',index_col=0)",
   "outputs": [],
   "execution_count": null
  },
  {
   "cell_type": "code",
   "metadata": {
    "cell_id": "5350a35e691e4de38c5e509bd69c29fd",
    "tags": [],
    "deepnote_to_be_reexecuted": false,
    "source_hash": "216221ba",
    "execution_start": 1659307260823,
    "execution_millis": 825,
    "deepnote_cell_type": "code",
    "deepnote_cell_height": 407
   },
   "source": "df_prueba.head()",
   "outputs": [
    {
     "output_type": "execute_result",
     "execution_count": 3,
     "data": {
      "application/vnd.deepnote.dataframe.v3+json": {
       "column_count": 34,
       "row_count": 5,
       "columns": [
        {
         "name": "FechaExpedicion",
         "dtype": "object",
         "stats": {
          "unique_count": 5,
          "nan_count": 0,
          "categories": [
           {
            "name": "2006-11-04",
            "count": 1
           },
           {
            "name": "2007-08-17",
            "count": 1
           },
           {
            "name": "3 others",
            "count": 3
           }
          ]
         }
        },
        {
         "name": "Cancelacion",
         "dtype": "object",
         "stats": {
          "unique_count": 0,
          "nan_count": 5,
          "categories": [
           {
            "name": "Missing",
            "count": 5
           }
          ]
         }
        },
        {
         "name": "Gestionable",
         "dtype": "object",
         "stats": {
          "unique_count": 0,
          "nan_count": 5,
          "categories": [
           {
            "name": "Missing",
            "count": 5
           }
          ]
         }
        },
        {
         "name": "Retencion",
         "dtype": "object",
         "stats": {
          "unique_count": 0,
          "nan_count": 5,
          "categories": [
           {
            "name": "Missing",
            "count": 5
           }
          ]
         }
        },
        {
         "name": "TIPO",
         "dtype": "object",
         "stats": {
          "unique_count": 0,
          "nan_count": 5,
          "categories": [
           {
            "name": "Missing",
            "count": 5
           }
          ]
         }
        },
        {
         "name": "ANO_MES",
         "dtype": "float64",
         "stats": {
          "unique_count": 0,
          "nan_count": 5,
          "min": null,
          "max": null,
          "histogram": [
           {
            "bin_start": 0,
            "bin_end": 0.1,
            "count": 0
           },
           {
            "bin_start": 0.1,
            "bin_end": 0.2,
            "count": 0
           },
           {
            "bin_start": 0.2,
            "bin_end": 0.30000000000000004,
            "count": 0
           },
           {
            "bin_start": 0.30000000000000004,
            "bin_end": 0.4,
            "count": 0
           },
           {
            "bin_start": 0.4,
            "bin_end": 0.5,
            "count": 0
           },
           {
            "bin_start": 0.5,
            "bin_end": 0.6000000000000001,
            "count": 0
           },
           {
            "bin_start": 0.6000000000000001,
            "bin_end": 0.7000000000000001,
            "count": 0
           },
           {
            "bin_start": 0.7000000000000001,
            "bin_end": 0.8,
            "count": 0
           },
           {
            "bin_start": 0.8,
            "bin_end": 0.9,
            "count": 0
           },
           {
            "bin_start": 0.9,
            "bin_end": 1,
            "count": 0
           }
          ]
         }
        },
        {
         "name": "Target",
         "dtype": "float64",
         "stats": {
          "unique_count": 1,
          "nan_count": 0,
          "min": "0.0",
          "max": "0.0",
          "histogram": [
           {
            "bin_start": -0.5,
            "bin_end": -0.4,
            "count": 0
           },
           {
            "bin_start": -0.4,
            "bin_end": -0.3,
            "count": 0
           },
           {
            "bin_start": -0.3,
            "bin_end": -0.19999999999999996,
            "count": 0
           },
           {
            "bin_start": -0.19999999999999996,
            "bin_end": -0.09999999999999998,
            "count": 0
           },
           {
            "bin_start": -0.09999999999999998,
            "bin_end": 0,
            "count": 0
           },
           {
            "bin_start": 0,
            "bin_end": 0.10000000000000009,
            "count": 5
           },
           {
            "bin_start": 0.10000000000000009,
            "bin_end": 0.20000000000000007,
            "count": 0
           },
           {
            "bin_start": 0.20000000000000007,
            "bin_end": 0.30000000000000004,
            "count": 0
           },
           {
            "bin_start": 0.30000000000000004,
            "bin_end": 0.4,
            "count": 0
           },
           {
            "bin_start": 0.4,
            "bin_end": 0.5,
            "count": 0
           }
          ]
         }
        },
        {
         "name": "FechaProceso",
         "dtype": "object",
         "stats": {
          "unique_count": 1,
          "nan_count": 0,
          "categories": [
           {
            "name": "2018-04-01",
            "count": 5
           }
          ]
         }
        },
        {
         "name": "DisponibleAvances",
         "dtype": "float64",
         "stats": {
          "unique_count": 5,
          "nan_count": 0,
          "min": "150000.0",
          "max": "3307500.0",
          "histogram": [
           {
            "bin_start": 150000,
            "bin_end": 465750,
            "count": 1
           },
           {
            "bin_start": 465750,
            "bin_end": 781500,
            "count": 1
           },
           {
            "bin_start": 781500,
            "bin_end": 1097250,
            "count": 1
           },
           {
            "bin_start": 1097250,
            "bin_end": 1413000,
            "count": 1
           },
           {
            "bin_start": 1413000,
            "bin_end": 1728750,
            "count": 0
           },
           {
            "bin_start": 1728750,
            "bin_end": 2044500,
            "count": 0
           },
           {
            "bin_start": 2044500,
            "bin_end": 2360250,
            "count": 0
           },
           {
            "bin_start": 2360250,
            "bin_end": 2676000,
            "count": 0
           },
           {
            "bin_start": 2676000,
            "bin_end": 2991750,
            "count": 0
           },
           {
            "bin_start": 2991750,
            "bin_end": 3307500,
            "count": 1
           }
          ]
         }
        },
        {
         "name": "LimiteAvances",
         "dtype": "int64",
         "stats": {
          "unique_count": 5,
          "nan_count": 0,
          "min": "150000",
          "max": "3307500",
          "histogram": [
           {
            "bin_start": 150000,
            "bin_end": 465750,
            "count": 1
           },
           {
            "bin_start": 465750,
            "bin_end": 781500,
            "count": 1
           },
           {
            "bin_start": 781500,
            "bin_end": 1097250,
            "count": 1
           },
           {
            "bin_start": 1097250,
            "bin_end": 1413000,
            "count": 1
           },
           {
            "bin_start": 1413000,
            "bin_end": 1728750,
            "count": 0
           },
           {
            "bin_start": 1728750,
            "bin_end": 2044500,
            "count": 0
           },
           {
            "bin_start": 2044500,
            "bin_end": 2360250,
            "count": 0
           },
           {
            "bin_start": 2360250,
            "bin_end": 2676000,
            "count": 0
           },
           {
            "bin_start": 2676000,
            "bin_end": 2991750,
            "count": 0
           },
           {
            "bin_start": 2991750,
            "bin_end": 3307500,
            "count": 1
           }
          ]
         }
        },
        {
         "name": "TotalIntereses",
         "dtype": "float64",
         "stats": {
          "unique_count": 1,
          "nan_count": 0,
          "min": "0.0",
          "max": "0.0",
          "histogram": [
           {
            "bin_start": -0.5,
            "bin_end": -0.4,
            "count": 0
           },
           {
            "bin_start": -0.4,
            "bin_end": -0.3,
            "count": 0
           },
           {
            "bin_start": -0.3,
            "bin_end": -0.19999999999999996,
            "count": 0
           },
           {
            "bin_start": -0.19999999999999996,
            "bin_end": -0.09999999999999998,
            "count": 0
           },
           {
            "bin_start": -0.09999999999999998,
            "bin_end": 0,
            "count": 0
           },
           {
            "bin_start": 0,
            "bin_end": 0.10000000000000009,
            "count": 5
           },
           {
            "bin_start": 0.10000000000000009,
            "bin_end": 0.20000000000000007,
            "count": 0
           },
           {
            "bin_start": 0.20000000000000007,
            "bin_end": 0.30000000000000004,
            "count": 0
           },
           {
            "bin_start": 0.30000000000000004,
            "bin_end": 0.4,
            "count": 0
           },
           {
            "bin_start": 0.4,
            "bin_end": 0.5,
            "count": 0
           }
          ]
         }
        },
        {
         "name": "SaldosMesAnt",
         "dtype": "float64",
         "stats": {
          "unique_count": 1,
          "nan_count": 0,
          "min": "0.0",
          "max": "0.0",
          "histogram": [
           {
            "bin_start": -0.5,
            "bin_end": -0.4,
            "count": 0
           },
           {
            "bin_start": -0.4,
            "bin_end": -0.3,
            "count": 0
           },
           {
            "bin_start": -0.3,
            "bin_end": -0.19999999999999996,
            "count": 0
           },
           {
            "bin_start": -0.19999999999999996,
            "bin_end": -0.09999999999999998,
            "count": 0
           },
           {
            "bin_start": -0.09999999999999998,
            "bin_end": 0,
            "count": 0
           },
           {
            "bin_start": 0,
            "bin_end": 0.10000000000000009,
            "count": 5
           },
           {
            "bin_start": 0.10000000000000009,
            "bin_end": 0.20000000000000007,
            "count": 0
           },
           {
            "bin_start": 0.20000000000000007,
            "bin_end": 0.30000000000000004,
            "count": 0
           },
           {
            "bin_start": 0.30000000000000004,
            "bin_end": 0.4,
            "count": 0
           },
           {
            "bin_start": 0.4,
            "bin_end": 0.5,
            "count": 0
           }
          ]
         }
        },
        {
         "name": "PagosMesAnt",
         "dtype": "float64",
         "stats": {
          "unique_count": 1,
          "nan_count": 0,
          "min": "0.0",
          "max": "0.0",
          "histogram": [
           {
            "bin_start": -0.5,
            "bin_end": -0.4,
            "count": 0
           },
           {
            "bin_start": -0.4,
            "bin_end": -0.3,
            "count": 0
           },
           {
            "bin_start": -0.3,
            "bin_end": -0.19999999999999996,
            "count": 0
           },
           {
            "bin_start": -0.19999999999999996,
            "bin_end": -0.09999999999999998,
            "count": 0
           },
           {
            "bin_start": -0.09999999999999998,
            "bin_end": 0,
            "count": 0
           },
           {
            "bin_start": 0,
            "bin_end": 0.10000000000000009,
            "count": 5
           },
           {
            "bin_start": 0.10000000000000009,
            "bin_end": 0.20000000000000007,
            "count": 0
           },
           {
            "bin_start": 0.20000000000000007,
            "bin_end": 0.30000000000000004,
            "count": 0
           },
           {
            "bin_start": 0.30000000000000004,
            "bin_end": 0.4,
            "count": 0
           },
           {
            "bin_start": 0.4,
            "bin_end": 0.5,
            "count": 0
           }
          ]
         }
        },
        {
         "name": "VtasMesAnt",
         "dtype": "float64",
         "stats": {
          "unique_count": 1,
          "nan_count": 0,
          "min": "0.0",
          "max": "0.0",
          "histogram": [
           {
            "bin_start": -0.5,
            "bin_end": -0.4,
            "count": 0
           },
           {
            "bin_start": -0.4,
            "bin_end": -0.3,
            "count": 0
           },
           {
            "bin_start": -0.3,
            "bin_end": -0.19999999999999996,
            "count": 0
           },
           {
            "bin_start": -0.19999999999999996,
            "bin_end": -0.09999999999999998,
            "count": 0
           },
           {
            "bin_start": -0.09999999999999998,
            "bin_end": 0,
            "count": 0
           },
           {
            "bin_start": 0,
            "bin_end": 0.10000000000000009,
            "count": 5
           },
           {
            "bin_start": 0.10000000000000009,
            "bin_end": 0.20000000000000007,
            "count": 0
           },
           {
            "bin_start": 0.20000000000000007,
            "bin_end": 0.30000000000000004,
            "count": 0
           },
           {
            "bin_start": 0.30000000000000004,
            "bin_end": 0.4,
            "count": 0
           },
           {
            "bin_start": 0.4,
            "bin_end": 0.5,
            "count": 0
           }
          ]
         }
        },
        {
         "name": "EdadMora",
         "dtype": "int64",
         "stats": {
          "unique_count": 1,
          "nan_count": 0,
          "min": "0",
          "max": "0",
          "histogram": [
           {
            "bin_start": -0.5,
            "bin_end": -0.4,
            "count": 0
           },
           {
            "bin_start": -0.4,
            "bin_end": -0.3,
            "count": 0
           },
           {
            "bin_start": -0.3,
            "bin_end": -0.19999999999999996,
            "count": 0
           },
           {
            "bin_start": -0.19999999999999996,
            "bin_end": -0.09999999999999998,
            "count": 0
           },
           {
            "bin_start": -0.09999999999999998,
            "bin_end": 0,
            "count": 0
           },
           {
            "bin_start": 0,
            "bin_end": 0.10000000000000009,
            "count": 5
           },
           {
            "bin_start": 0.10000000000000009,
            "bin_end": 0.20000000000000007,
            "count": 0
           },
           {
            "bin_start": 0.20000000000000007,
            "bin_end": 0.30000000000000004,
            "count": 0
           },
           {
            "bin_start": 0.30000000000000004,
            "bin_end": 0.4,
            "count": 0
           },
           {
            "bin_start": 0.4,
            "bin_end": 0.5,
            "count": 0
           }
          ]
         }
        },
        {
         "name": "LimiteCupo",
         "dtype": "int64",
         "stats": {
          "unique_count": 5,
          "nan_count": 0,
          "min": "500000",
          "max": "6615000",
          "histogram": [
           {
            "bin_start": 500000,
            "bin_end": 1111500,
            "count": 1
           },
           {
            "bin_start": 1111500,
            "bin_end": 1723000,
            "count": 1
           },
           {
            "bin_start": 1723000,
            "bin_end": 2334500,
            "count": 0
           },
           {
            "bin_start": 2334500,
            "bin_end": 2946000,
            "count": 1
           },
           {
            "bin_start": 2946000,
            "bin_end": 3557500,
            "count": 1
           },
           {
            "bin_start": 3557500,
            "bin_end": 4169000,
            "count": 0
           },
           {
            "bin_start": 4169000,
            "bin_end": 4780500,
            "count": 0
           },
           {
            "bin_start": 4780500,
            "bin_end": 5392000,
            "count": 0
           },
           {
            "bin_start": 5392000,
            "bin_end": 6003500,
            "count": 0
           },
           {
            "bin_start": 6003500,
            "bin_end": 6615000,
            "count": 1
           }
          ]
         }
        },
        {
         "name": "PagodelMes",
         "dtype": "float64",
         "stats": {
          "unique_count": 1,
          "nan_count": 0,
          "min": "0.0",
          "max": "0.0",
          "histogram": [
           {
            "bin_start": -0.5,
            "bin_end": -0.4,
            "count": 0
           },
           {
            "bin_start": -0.4,
            "bin_end": -0.3,
            "count": 0
           },
           {
            "bin_start": -0.3,
            "bin_end": -0.19999999999999996,
            "count": 0
           },
           {
            "bin_start": -0.19999999999999996,
            "bin_end": -0.09999999999999998,
            "count": 0
           },
           {
            "bin_start": -0.09999999999999998,
            "bin_end": 0,
            "count": 0
           },
           {
            "bin_start": 0,
            "bin_end": 0.10000000000000009,
            "count": 5
           },
           {
            "bin_start": 0.10000000000000009,
            "bin_end": 0.20000000000000007,
            "count": 0
           },
           {
            "bin_start": 0.20000000000000007,
            "bin_end": 0.30000000000000004,
            "count": 0
           },
           {
            "bin_start": 0.30000000000000004,
            "bin_end": 0.4,
            "count": 0
           },
           {
            "bin_start": 0.4,
            "bin_end": 0.5,
            "count": 0
           }
          ]
         }
        },
        {
         "name": "PagoMinimo",
         "dtype": "float64",
         "stats": {
          "unique_count": 1,
          "nan_count": 0,
          "min": "0.0",
          "max": "0.0",
          "histogram": [
           {
            "bin_start": -0.5,
            "bin_end": -0.4,
            "count": 0
           },
           {
            "bin_start": -0.4,
            "bin_end": -0.3,
            "count": 0
           },
           {
            "bin_start": -0.3,
            "bin_end": -0.19999999999999996,
            "count": 0
           },
           {
            "bin_start": -0.19999999999999996,
            "bin_end": -0.09999999999999998,
            "count": 0
           },
           {
            "bin_start": -0.09999999999999998,
            "bin_end": 0,
            "count": 0
           },
           {
            "bin_start": 0,
            "bin_end": 0.10000000000000009,
            "count": 5
           },
           {
            "bin_start": 0.10000000000000009,
            "bin_end": 0.20000000000000007,
            "count": 0
           },
           {
            "bin_start": 0.20000000000000007,
            "bin_end": 0.30000000000000004,
            "count": 0
           },
           {
            "bin_start": 0.30000000000000004,
            "bin_end": 0.4,
            "count": 0
           },
           {
            "bin_start": 0.4,
            "bin_end": 0.5,
            "count": 0
           }
          ]
         }
        },
        {
         "name": "VrMora",
         "dtype": "float64",
         "stats": {
          "unique_count": 1,
          "nan_count": 0,
          "min": "0.0",
          "max": "0.0",
          "histogram": [
           {
            "bin_start": -0.5,
            "bin_end": -0.4,
            "count": 0
           },
           {
            "bin_start": -0.4,
            "bin_end": -0.3,
            "count": 0
           },
           {
            "bin_start": -0.3,
            "bin_end": -0.19999999999999996,
            "count": 0
           },
           {
            "bin_start": -0.19999999999999996,
            "bin_end": -0.09999999999999998,
            "count": 0
           },
           {
            "bin_start": -0.09999999999999998,
            "bin_end": 0,
            "count": 0
           },
           {
            "bin_start": 0,
            "bin_end": 0.10000000000000009,
            "count": 5
           },
           {
            "bin_start": 0.10000000000000009,
            "bin_end": 0.20000000000000007,
            "count": 0
           },
           {
            "bin_start": 0.20000000000000007,
            "bin_end": 0.30000000000000004,
            "count": 0
           },
           {
            "bin_start": 0.30000000000000004,
            "bin_end": 0.4,
            "count": 0
           },
           {
            "bin_start": 0.4,
            "bin_end": 0.5,
            "count": 0
           }
          ]
         }
        },
        {
         "name": "VrCuotaManejo",
         "dtype": "float64",
         "stats": {
          "unique_count": 1,
          "nan_count": 0,
          "min": "0.0",
          "max": "0.0",
          "histogram": [
           {
            "bin_start": -0.5,
            "bin_end": -0.4,
            "count": 0
           },
           {
            "bin_start": -0.4,
            "bin_end": -0.3,
            "count": 0
           },
           {
            "bin_start": -0.3,
            "bin_end": -0.19999999999999996,
            "count": 0
           },
           {
            "bin_start": -0.19999999999999996,
            "bin_end": -0.09999999999999998,
            "count": 0
           },
           {
            "bin_start": -0.09999999999999998,
            "bin_end": 0,
            "count": 0
           },
           {
            "bin_start": 0,
            "bin_end": 0.10000000000000009,
            "count": 5
           },
           {
            "bin_start": 0.10000000000000009,
            "bin_end": 0.20000000000000007,
            "count": 0
           },
           {
            "bin_start": 0.20000000000000007,
            "bin_end": 0.30000000000000004,
            "count": 0
           },
           {
            "bin_start": 0.30000000000000004,
            "bin_end": 0.4,
            "count": 0
           },
           {
            "bin_start": 0.4,
            "bin_end": 0.5,
            "count": 0
           }
          ]
         }
        },
        {
         "name": "Saldo",
         "dtype": "float64",
         "stats": {
          "unique_count": 1,
          "nan_count": 0,
          "min": "0.0",
          "max": "0.0",
          "histogram": [
           {
            "bin_start": -0.5,
            "bin_end": -0.4,
            "count": 0
           },
           {
            "bin_start": -0.4,
            "bin_end": -0.3,
            "count": 0
           },
           {
            "bin_start": -0.3,
            "bin_end": -0.19999999999999996,
            "count": 0
           },
           {
            "bin_start": -0.19999999999999996,
            "bin_end": -0.09999999999999998,
            "count": 0
           },
           {
            "bin_start": -0.09999999999999998,
            "bin_end": 0,
            "count": 0
           },
           {
            "bin_start": 0,
            "bin_end": 0.10000000000000009,
            "count": 5
           },
           {
            "bin_start": 0.10000000000000009,
            "bin_end": 0.20000000000000007,
            "count": 0
           },
           {
            "bin_start": 0.20000000000000007,
            "bin_end": 0.30000000000000004,
            "count": 0
           },
           {
            "bin_start": 0.30000000000000004,
            "bin_end": 0.4,
            "count": 0
           },
           {
            "bin_start": 0.4,
            "bin_end": 0.5,
            "count": 0
           }
          ]
         }
        },
        {
         "name": "comp",
         "dtype": "float64",
         "stats": {
          "unique_count": 1,
          "nan_count": 0,
          "min": "0.0",
          "max": "0.0",
          "histogram": [
           {
            "bin_start": -0.5,
            "bin_end": -0.4,
            "count": 0
           },
           {
            "bin_start": -0.4,
            "bin_end": -0.3,
            "count": 0
           },
           {
            "bin_start": -0.3,
            "bin_end": -0.19999999999999996,
            "count": 0
           },
           {
            "bin_start": -0.19999999999999996,
            "bin_end": -0.09999999999999998,
            "count": 0
           },
           {
            "bin_start": -0.09999999999999998,
            "bin_end": 0,
            "count": 0
           },
           {
            "bin_start": 0,
            "bin_end": 0.10000000000000009,
            "count": 5
           },
           {
            "bin_start": 0.10000000000000009,
            "bin_end": 0.20000000000000007,
            "count": 0
           },
           {
            "bin_start": 0.20000000000000007,
            "bin_end": 0.30000000000000004,
            "count": 0
           },
           {
            "bin_start": 0.30000000000000004,
            "bin_end": 0.4,
            "count": 0
           },
           {
            "bin_start": 0.4,
            "bin_end": 0.5,
            "count": 0
           }
          ]
         }
        },
        {
         "name": "categoria",
         "dtype": "object",
         "stats": {
          "unique_count": 3,
          "nan_count": 0,
          "categories": [
           {
            "name": "B",
            "count": 2
           },
           {
            "name": "C",
            "count": 2
           },
           {
            "name": "A",
            "count": 1
           }
          ]
         }
        },
        {
         "name": "segmento",
         "dtype": "object",
         "stats": {
          "unique_count": 3,
          "nan_count": 0,
          "categories": [
           {
            "name": "Segmento_Medio",
            "count": 3
           },
           {
            "name": "Segemnto_Basico",
            "count": 1
           },
           {
            "name": "Segmento_Alto",
            "count": 1
           }
          ]
         }
        },
        {
         "name": "edad",
         "dtype": "int64",
         "stats": {
          "unique_count": 5,
          "nan_count": 0,
          "min": "27",
          "max": "60",
          "histogram": [
           {
            "bin_start": 27,
            "bin_end": 30.3,
            "count": 1
           },
           {
            "bin_start": 30.3,
            "bin_end": 33.6,
            "count": 1
           },
           {
            "bin_start": 33.6,
            "bin_end": 36.9,
            "count": 0
           },
           {
            "bin_start": 36.9,
            "bin_end": 40.2,
            "count": 1
           },
           {
            "bin_start": 40.2,
            "bin_end": 43.5,
            "count": 1
           },
           {
            "bin_start": 43.5,
            "bin_end": 46.8,
            "count": 0
           },
           {
            "bin_start": 46.8,
            "bin_end": 50.099999999999994,
            "count": 0
           },
           {
            "bin_start": 50.099999999999994,
            "bin_end": 53.4,
            "count": 0
           },
           {
            "bin_start": 53.4,
            "bin_end": 56.7,
            "count": 0
           },
           {
            "bin_start": 56.7,
            "bin_end": 60,
            "count": 1
           }
          ]
         }
        },
        {
         "name": "nivel_educativo",
         "dtype": "object",
         "stats": {
          "unique_count": 3,
          "nan_count": 0,
          "categories": [
           {
            "name": "tecnico_tecnologico",
            "count": 3
           },
           {
            "name": "tecnic_tecnologico",
            "count": 1
           },
           {
            "name": "primaria",
            "count": 1
           }
          ]
         }
        },
        {
         "name": "estado_civil",
         "dtype": "object",
         "stats": {
          "unique_count": 2,
          "nan_count": 0,
          "categories": [
           {
            "name": "soltero",
            "count": 4
           },
           {
            "name": "separado",
            "count": 1
           }
          ]
         }
        },
        {
         "name": "Genero",
         "dtype": "object",
         "stats": {
          "unique_count": 2,
          "nan_count": 0,
          "categories": [
           {
            "name": "M",
            "count": 4
           },
           {
            "name": "F",
            "count": 1
           }
          ]
         }
        },
        {
         "name": "PAC",
         "dtype": "int64",
         "stats": {
          "unique_count": 2,
          "nan_count": 0,
          "min": "1",
          "max": "3",
          "histogram": [
           {
            "bin_start": 1,
            "bin_end": 1.2,
            "count": 4
           },
           {
            "bin_start": 1.2,
            "bin_end": 1.4,
            "count": 0
           },
           {
            "bin_start": 1.4,
            "bin_end": 1.6,
            "count": 0
           },
           {
            "bin_start": 1.6,
            "bin_end": 1.8,
            "count": 0
           },
           {
            "bin_start": 1.8,
            "bin_end": 2,
            "count": 0
           },
           {
            "bin_start": 2,
            "bin_end": 2.2,
            "count": 0
           },
           {
            "bin_start": 2.2,
            "bin_end": 2.4000000000000004,
            "count": 0
           },
           {
            "bin_start": 2.4000000000000004,
            "bin_end": 2.6,
            "count": 0
           },
           {
            "bin_start": 2.6,
            "bin_end": 2.8,
            "count": 0
           },
           {
            "bin_start": 2.8,
            "bin_end": 3,
            "count": 1
           }
          ]
         }
        },
        {
         "name": "contrato",
         "dtype": "int64",
         "stats": {
          "unique_count": 3,
          "nan_count": 0,
          "min": "1",
          "max": "4",
          "histogram": [
           {
            "bin_start": 1,
            "bin_end": 1.3,
            "count": 2
           },
           {
            "bin_start": 1.3,
            "bin_end": 1.6,
            "count": 0
           },
           {
            "bin_start": 1.6,
            "bin_end": 1.9,
            "count": 0
           },
           {
            "bin_start": 1.9,
            "bin_end": 2.2,
            "count": 0
           },
           {
            "bin_start": 2.2,
            "bin_end": 2.5,
            "count": 0
           },
           {
            "bin_start": 2.5,
            "bin_end": 2.8,
            "count": 0
           },
           {
            "bin_start": 2.8,
            "bin_end": 3.1,
            "count": 1
           },
           {
            "bin_start": 3.1,
            "bin_end": 3.4,
            "count": 0
           },
           {
            "bin_start": 3.4,
            "bin_end": 3.6999999999999997,
            "count": 0
           },
           {
            "bin_start": 3.6999999999999997,
            "bin_end": 4,
            "count": 2
           }
          ]
         }
        },
        {
         "name": "estrato",
         "dtype": "float64",
         "stats": {
          "unique_count": 0,
          "nan_count": 5,
          "min": null,
          "max": null,
          "histogram": [
           {
            "bin_start": 0,
            "bin_end": 0.1,
            "count": 0
           },
           {
            "bin_start": 0.1,
            "bin_end": 0.2,
            "count": 0
           },
           {
            "bin_start": 0.2,
            "bin_end": 0.30000000000000004,
            "count": 0
           },
           {
            "bin_start": 0.30000000000000004,
            "bin_end": 0.4,
            "count": 0
           },
           {
            "bin_start": 0.4,
            "bin_end": 0.5,
            "count": 0
           },
           {
            "bin_start": 0.5,
            "bin_end": 0.6000000000000001,
            "count": 0
           },
           {
            "bin_start": 0.6000000000000001,
            "bin_end": 0.7000000000000001,
            "count": 0
           },
           {
            "bin_start": 0.7000000000000001,
            "bin_end": 0.8,
            "count": 0
           },
           {
            "bin_start": 0.8,
            "bin_end": 0.9,
            "count": 0
           },
           {
            "bin_start": 0.9,
            "bin_end": 1,
            "count": 0
           }
          ]
         }
        },
        {
         "name": "cuota_monetaria",
         "dtype": "int64",
         "stats": {
          "unique_count": 5,
          "nan_count": 0,
          "min": "44973",
          "max": "276266",
          "histogram": [
           {
            "bin_start": 44973,
            "bin_end": 68102.3,
            "count": 2
           },
           {
            "bin_start": 68102.3,
            "bin_end": 91231.6,
            "count": 0
           },
           {
            "bin_start": 91231.6,
            "bin_end": 114360.9,
            "count": 0
           },
           {
            "bin_start": 114360.9,
            "bin_end": 137490.2,
            "count": 0
           },
           {
            "bin_start": 137490.2,
            "bin_end": 160619.5,
            "count": 0
           },
           {
            "bin_start": 160619.5,
            "bin_end": 183748.8,
            "count": 1
           },
           {
            "bin_start": 183748.8,
            "bin_end": 206878.1,
            "count": 1
           },
           {
            "bin_start": 206878.1,
            "bin_end": 230007.4,
            "count": 0
           },
           {
            "bin_start": 230007.4,
            "bin_end": 253136.69999999998,
            "count": 0
           },
           {
            "bin_start": 253136.69999999998,
            "bin_end": 276266,
            "count": 1
           }
          ]
         }
        },
        {
         "name": "sub_vivenda",
         "dtype": "int64",
         "stats": {
          "unique_count": 5,
          "nan_count": 0,
          "min": "61783",
          "max": "190999",
          "histogram": [
           {
            "bin_start": 61783,
            "bin_end": 74704.6,
            "count": 2
           },
           {
            "bin_start": 74704.6,
            "bin_end": 87626.2,
            "count": 0
           },
           {
            "bin_start": 87626.2,
            "bin_end": 100547.8,
            "count": 0
           },
           {
            "bin_start": 100547.8,
            "bin_end": 113469.4,
            "count": 0
           },
           {
            "bin_start": 113469.4,
            "bin_end": 126391,
            "count": 0
           },
           {
            "bin_start": 126391,
            "bin_end": 139312.6,
            "count": 2
           },
           {
            "bin_start": 139312.6,
            "bin_end": 152234.2,
            "count": 0
           },
           {
            "bin_start": 152234.2,
            "bin_end": 165155.8,
            "count": 0
           },
           {
            "bin_start": 165155.8,
            "bin_end": 178077.40000000002,
            "count": 0
           },
           {
            "bin_start": 178077.40000000002,
            "bin_end": 190999,
            "count": 1
           }
          ]
         }
        },
        {
         "name": "bono_lonchera",
         "dtype": "int64",
         "stats": {
          "unique_count": 5,
          "nan_count": 0,
          "min": "84655",
          "max": "296035",
          "histogram": [
           {
            "bin_start": 84655,
            "bin_end": 105793,
            "count": 1
           },
           {
            "bin_start": 105793,
            "bin_end": 126931,
            "count": 0
           },
           {
            "bin_start": 126931,
            "bin_end": 148069,
            "count": 0
           },
           {
            "bin_start": 148069,
            "bin_end": 169207,
            "count": 1
           },
           {
            "bin_start": 169207,
            "bin_end": 190345,
            "count": 1
           },
           {
            "bin_start": 190345,
            "bin_end": 211483,
            "count": 0
           },
           {
            "bin_start": 211483,
            "bin_end": 232621,
            "count": 0
           },
           {
            "bin_start": 232621,
            "bin_end": 253759,
            "count": 0
           },
           {
            "bin_start": 253759,
            "bin_end": 274897,
            "count": 1
           },
           {
            "bin_start": 274897,
            "bin_end": 296035,
            "count": 1
           }
          ]
         }
        },
        {
         "name": "_deepnote_index_column",
         "dtype": "int64"
        }
       ],
       "rows": [
        {
         "FechaExpedicion": "2006-11-04",
         "Cancelacion": "nan",
         "Gestionable": "nan",
         "Retencion": "nan",
         "TIPO": "nan",
         "ANO_MES": "nan",
         "Target": 0,
         "FechaProceso": "2018-04-01",
         "DisponibleAvances": 1050000,
         "LimiteAvances": 1050000,
         "TotalIntereses": 0,
         "SaldosMesAnt": 0,
         "PagosMesAnt": 0,
         "VtasMesAnt": 0,
         "EdadMora": 0,
         "LimiteCupo": 2625000,
         "PagodelMes": 0,
         "PagoMinimo": 0,
         "VrMora": 0,
         "VrCuotaManejo": 0,
         "Saldo": 0,
         "comp": 0,
         "categoria": "B",
         "segmento": "Segmento_Medio",
         "edad": 31,
         "nivel_educativo": "tecnic_tecnologico",
         "estado_civil": "soltero",
         "Genero": "F",
         "PAC": 1,
         "contrato": 4,
         "estrato": "nan",
         "cuota_monetaria": 276266,
         "sub_vivenda": 190999,
         "bono_lonchera": 84655,
         "_deepnote_index_column": 1
        },
        {
         "FechaExpedicion": "2007-08-17",
         "Cancelacion": "nan",
         "Gestionable": "nan",
         "Retencion": "nan",
         "TIPO": "nan",
         "ANO_MES": "nan",
         "Target": 0,
         "FechaProceso": "2018-04-01",
         "DisponibleAvances": 1180000,
         "LimiteAvances": 1180000,
         "TotalIntereses": 0,
         "SaldosMesAnt": 0,
         "PagosMesAnt": 0,
         "VtasMesAnt": 0,
         "EdadMora": 0,
         "LimiteCupo": 2950000,
         "PagodelMes": 0,
         "PagoMinimo": 0,
         "VrMora": 0,
         "VrCuotaManejo": 0,
         "Saldo": 0,
         "comp": 0,
         "categoria": "C",
         "segmento": "Segmento_Medio",
         "edad": 38,
         "nivel_educativo": "tecnico_tecnologico",
         "estado_civil": "soltero",
         "Genero": "M",
         "PAC": 1,
         "contrato": 1,
         "estrato": "nan",
         "cuota_monetaria": 204600,
         "sub_vivenda": 129945,
         "bono_lonchera": 296035,
         "_deepnote_index_column": 2
        },
        {
         "FechaExpedicion": "2008-05-08",
         "Cancelacion": "nan",
         "Gestionable": "nan",
         "Retencion": "nan",
         "TIPO": "nan",
         "ANO_MES": "nan",
         "Target": 0,
         "FechaProceso": "2018-04-01",
         "DisponibleAvances": 150000,
         "LimiteAvances": 150000,
         "TotalIntereses": 0,
         "SaldosMesAnt": 0,
         "PagosMesAnt": 0,
         "VtasMesAnt": 0,
         "EdadMora": 0,
         "LimiteCupo": 500000,
         "PagodelMes": 0,
         "PagoMinimo": 0,
         "VrMora": 0,
         "VrCuotaManejo": 0,
         "Saldo": 0,
         "comp": 0,
         "categoria": "A",
         "segmento": "Segemnto_Basico",
         "edad": 42,
         "nivel_educativo": "primaria",
         "estado_civil": "soltero",
         "Genero": "M",
         "PAC": 3,
         "contrato": 3,
         "estrato": "nan",
         "cuota_monetaria": 44973,
         "sub_vivenda": 64180,
         "bono_lonchera": 258891,
         "_deepnote_index_column": 3
        },
        {
         "FechaExpedicion": "2006-12-21",
         "Cancelacion": "nan",
         "Gestionable": "nan",
         "Retencion": "nan",
         "TIPO": "nan",
         "ANO_MES": "nan",
         "Target": 0,
         "FechaProceso": "2018-04-01",
         "DisponibleAvances": 680000,
         "LimiteAvances": 680000,
         "TotalIntereses": 0,
         "SaldosMesAnt": 0,
         "PagosMesAnt": 0,
         "VtasMesAnt": 0,
         "EdadMora": 0,
         "LimiteCupo": 1700000,
         "PagodelMes": 0,
         "PagoMinimo": 0,
         "VrMora": 0,
         "VrCuotaManejo": 0,
         "Saldo": 0,
         "comp": 0,
         "categoria": "B",
         "segmento": "Segmento_Medio",
         "edad": 60,
         "nivel_educativo": "tecnico_tecnologico",
         "estado_civil": "soltero",
         "Genero": "M",
         "PAC": 1,
         "contrato": 4,
         "estrato": "nan",
         "cuota_monetaria": 162691,
         "sub_vivenda": 61783,
         "bono_lonchera": 150028,
         "_deepnote_index_column": 4
        },
        {
         "FechaExpedicion": "2007-09-13",
         "Cancelacion": "nan",
         "Gestionable": "nan",
         "Retencion": "nan",
         "TIPO": "nan",
         "ANO_MES": "nan",
         "Target": 0,
         "FechaProceso": "2018-04-01",
         "DisponibleAvances": 3307500,
         "LimiteAvances": 3307500,
         "TotalIntereses": 0,
         "SaldosMesAnt": 0,
         "PagosMesAnt": 0,
         "VtasMesAnt": 0,
         "EdadMora": 0,
         "LimiteCupo": 6615000,
         "PagodelMes": 0,
         "PagoMinimo": 0,
         "VrMora": 0,
         "VrCuotaManejo": 0,
         "Saldo": 0,
         "comp": 0,
         "categoria": "C",
         "segmento": "Segmento_Alto",
         "edad": 27,
         "nivel_educativo": "tecnico_tecnologico",
         "estado_civil": "separado",
         "Genero": "M",
         "PAC": 1,
         "contrato": 1,
         "estrato": "nan",
         "cuota_monetaria": 57423,
         "sub_vivenda": 128739,
         "bono_lonchera": 177292,
         "_deepnote_index_column": 5
        }
       ]
      },
      "text/plain": "   FechaExpedicion Cancelacion Gestionable Retencion TIPO  ANO_MES  Target  \\\nid                                                                           \n1       2006-11-04         NaN         NaN       NaN  NaN      NaN     0.0   \n2       2007-08-17         NaN         NaN       NaN  NaN      NaN     0.0   \n3       2008-05-08         NaN         NaN       NaN  NaN      NaN     0.0   \n4       2006-12-21         NaN         NaN       NaN  NaN      NaN     0.0   \n5       2007-09-13         NaN         NaN       NaN  NaN      NaN     0.0   \n\n   FechaProceso  DisponibleAvances  LimiteAvances  ...  edad  \\\nid                                                 ...         \n1    2018-04-01          1050000.0        1050000  ...    31   \n2    2018-04-01          1180000.0        1180000  ...    38   \n3    2018-04-01           150000.0         150000  ...    42   \n4    2018-04-01           680000.0         680000  ...    60   \n5    2018-04-01          3307500.0        3307500  ...    27   \n\n        nivel_educativo  estado_civil  Genero  PAC  contrato  estrato  \\\nid                                                                      \n1    tecnic_tecnologico       soltero       F    1         4      NaN   \n2   tecnico_tecnologico       soltero       M    1         1      NaN   \n3              primaria       soltero       M    3         3      NaN   \n4   tecnico_tecnologico       soltero       M    1         4      NaN   \n5   tecnico_tecnologico      separado       M    1         1      NaN   \n\n    cuota_monetaria  sub_vivenda  bono_lonchera  \nid                                               \n1            276266       190999          84655  \n2            204600       129945         296035  \n3             44973        64180         258891  \n4            162691        61783         150028  \n5             57423       128739         177292  \n\n[5 rows x 34 columns]",
      "text/html": "<div>\n<style scoped>\n    .dataframe tbody tr th:only-of-type {\n        vertical-align: middle;\n    }\n\n    .dataframe tbody tr th {\n        vertical-align: top;\n    }\n\n    .dataframe thead th {\n        text-align: right;\n    }\n</style>\n<table border=\"1\" class=\"dataframe\">\n  <thead>\n    <tr style=\"text-align: right;\">\n      <th></th>\n      <th>FechaExpedicion</th>\n      <th>Cancelacion</th>\n      <th>Gestionable</th>\n      <th>Retencion</th>\n      <th>TIPO</th>\n      <th>ANO_MES</th>\n      <th>Target</th>\n      <th>FechaProceso</th>\n      <th>DisponibleAvances</th>\n      <th>LimiteAvances</th>\n      <th>...</th>\n      <th>edad</th>\n      <th>nivel_educativo</th>\n      <th>estado_civil</th>\n      <th>Genero</th>\n      <th>PAC</th>\n      <th>contrato</th>\n      <th>estrato</th>\n      <th>cuota_monetaria</th>\n      <th>sub_vivenda</th>\n      <th>bono_lonchera</th>\n    </tr>\n    <tr>\n      <th>id</th>\n      <th></th>\n      <th></th>\n      <th></th>\n      <th></th>\n      <th></th>\n      <th></th>\n      <th></th>\n      <th></th>\n      <th></th>\n      <th></th>\n      <th></th>\n      <th></th>\n      <th></th>\n      <th></th>\n      <th></th>\n      <th></th>\n      <th></th>\n      <th></th>\n      <th></th>\n      <th></th>\n      <th></th>\n    </tr>\n  </thead>\n  <tbody>\n    <tr>\n      <th>1</th>\n      <td>2006-11-04</td>\n      <td>NaN</td>\n      <td>NaN</td>\n      <td>NaN</td>\n      <td>NaN</td>\n      <td>NaN</td>\n      <td>0.0</td>\n      <td>2018-04-01</td>\n      <td>1050000.0</td>\n      <td>1050000</td>\n      <td>...</td>\n      <td>31</td>\n      <td>tecnic_tecnologico</td>\n      <td>soltero</td>\n      <td>F</td>\n      <td>1</td>\n      <td>4</td>\n      <td>NaN</td>\n      <td>276266</td>\n      <td>190999</td>\n      <td>84655</td>\n    </tr>\n    <tr>\n      <th>2</th>\n      <td>2007-08-17</td>\n      <td>NaN</td>\n      <td>NaN</td>\n      <td>NaN</td>\n      <td>NaN</td>\n      <td>NaN</td>\n      <td>0.0</td>\n      <td>2018-04-01</td>\n      <td>1180000.0</td>\n      <td>1180000</td>\n      <td>...</td>\n      <td>38</td>\n      <td>tecnico_tecnologico</td>\n      <td>soltero</td>\n      <td>M</td>\n      <td>1</td>\n      <td>1</td>\n      <td>NaN</td>\n      <td>204600</td>\n      <td>129945</td>\n      <td>296035</td>\n    </tr>\n    <tr>\n      <th>3</th>\n      <td>2008-05-08</td>\n      <td>NaN</td>\n      <td>NaN</td>\n      <td>NaN</td>\n      <td>NaN</td>\n      <td>NaN</td>\n      <td>0.0</td>\n      <td>2018-04-01</td>\n      <td>150000.0</td>\n      <td>150000</td>\n      <td>...</td>\n      <td>42</td>\n      <td>primaria</td>\n      <td>soltero</td>\n      <td>M</td>\n      <td>3</td>\n      <td>3</td>\n      <td>NaN</td>\n      <td>44973</td>\n      <td>64180</td>\n      <td>258891</td>\n    </tr>\n    <tr>\n      <th>4</th>\n      <td>2006-12-21</td>\n      <td>NaN</td>\n      <td>NaN</td>\n      <td>NaN</td>\n      <td>NaN</td>\n      <td>NaN</td>\n      <td>0.0</td>\n      <td>2018-04-01</td>\n      <td>680000.0</td>\n      <td>680000</td>\n      <td>...</td>\n      <td>60</td>\n      <td>tecnico_tecnologico</td>\n      <td>soltero</td>\n      <td>M</td>\n      <td>1</td>\n      <td>4</td>\n      <td>NaN</td>\n      <td>162691</td>\n      <td>61783</td>\n      <td>150028</td>\n    </tr>\n    <tr>\n      <th>5</th>\n      <td>2007-09-13</td>\n      <td>NaN</td>\n      <td>NaN</td>\n      <td>NaN</td>\n      <td>NaN</td>\n      <td>NaN</td>\n      <td>0.0</td>\n      <td>2018-04-01</td>\n      <td>3307500.0</td>\n      <td>3307500</td>\n      <td>...</td>\n      <td>27</td>\n      <td>tecnico_tecnologico</td>\n      <td>separado</td>\n      <td>M</td>\n      <td>1</td>\n      <td>1</td>\n      <td>NaN</td>\n      <td>57423</td>\n      <td>128739</td>\n      <td>177292</td>\n    </tr>\n  </tbody>\n</table>\n<p>5 rows × 34 columns</p>\n</div>"
     },
     "metadata": {}
    }
   ],
   "execution_count": null
  },
  {
   "cell_type": "code",
   "source": "## Asignacion Periodo (YYYY-MM)\ndf_prueba = df_prueba.assign(Periodo = df_prueba['FechaExpedicion'].str[:7])\n\n## Periodo con menor y mayor pago\n\nPeriodo_pago = df_prueba.groupby(['Periodo'])['PagodelMes'].sum().reset_index(name = 'Cantidad Pagos al mes')\nPeriodo_pago.sort_values('Cantidad Pagos al mes', inplace=True)\nMuestra_menores = Periodo_pago[:5].copy()\nMuestra_mayores = Periodo_pago[-5:].copy()\nMuestra_mayores\n",
   "metadata": {
    "cell_id": "f34be40f87f04b2e962ab1577dc8db4b",
    "tags": [],
    "deepnote_to_be_reexecuted": false,
    "source_hash": "b4960df2",
    "execution_start": 1659307262315,
    "execution_millis": 63,
    "deepnote_table_state": {
     "pageSize": 10,
     "pageIndex": 0,
     "filters": [],
     "sortBy": [
      {
       "id": "Periodo Con menos Pagos",
       "type": "asc"
      }
     ]
    },
    "deepnote_table_loading": false,
    "deepnote_cell_type": "code",
    "deepnote_cell_height": 575
   },
   "outputs": [
    {
     "output_type": "execute_result",
     "execution_count": 4,
     "data": {
      "application/vnd.deepnote.dataframe.v3+json": {
       "column_count": 2,
       "row_count": 5,
       "columns": [
        {
         "name": "Periodo",
         "dtype": "object",
         "stats": {
          "unique_count": 5,
          "nan_count": 0,
          "categories": [
           {
            "name": "2016-11",
            "count": 1
           },
           {
            "name": "2013-11",
            "count": 1
           },
           {
            "name": "3 others",
            "count": 3
           }
          ]
         }
        },
        {
         "name": "Cantidad Pagos al mes",
         "dtype": "float64",
         "stats": {
          "unique_count": 5,
          "nan_count": 0,
          "min": "15665365.739999998",
          "max": "20235857.23",
          "histogram": [
           {
            "bin_start": 15665365.739999998,
            "bin_end": 16122414.888999999,
            "count": 1
           },
           {
            "bin_start": 16122414.888999999,
            "bin_end": 16579464.037999999,
            "count": 1
           },
           {
            "bin_start": 16579464.037999999,
            "bin_end": 17036513.187,
            "count": 1
           },
           {
            "bin_start": 17036513.187,
            "bin_end": 17493562.336,
            "count": 0
           },
           {
            "bin_start": 17493562.336,
            "bin_end": 17950611.485,
            "count": 0
           },
           {
            "bin_start": 17950611.485,
            "bin_end": 18407660.634,
            "count": 0
           },
           {
            "bin_start": 18407660.634,
            "bin_end": 18864709.783,
            "count": 1
           },
           {
            "bin_start": 18864709.783,
            "bin_end": 19321758.932,
            "count": 0
           },
           {
            "bin_start": 19321758.932,
            "bin_end": 19778808.081,
            "count": 0
           },
           {
            "bin_start": 19778808.081,
            "bin_end": 20235857.23,
            "count": 1
           }
          ]
         }
        },
        {
         "name": "_deepnote_index_column",
         "dtype": "int64"
        }
       ],
       "rows": [
        {
         "Periodo": "2016-11",
         "Cantidad Pagos al mes": 15665365.739999998,
         "_deepnote_index_column": 121
        },
        {
         "Periodo": "2013-11",
         "Cantidad Pagos al mes": 16172738.39,
         "_deepnote_index_column": 85
        },
        {
         "Periodo": "2017-12",
         "Cantidad Pagos al mes": 16648400.63,
         "_deepnote_index_column": 134
        },
        {
         "Periodo": "2016-07",
         "Cantidad Pagos al mes": 18649657.18,
         "_deepnote_index_column": 117
        },
        {
         "Periodo": "2017-10",
         "Cantidad Pagos al mes": 20235857.23,
         "_deepnote_index_column": 132
        }
       ]
      },
      "text/plain": "     Periodo  Cantidad Pagos al mes\n121  2016-11            15665365.74\n85   2013-11            16172738.39\n134  2017-12            16648400.63\n117  2016-07            18649657.18\n132  2017-10            20235857.23",
      "text/html": "<div>\n<style scoped>\n    .dataframe tbody tr th:only-of-type {\n        vertical-align: middle;\n    }\n\n    .dataframe tbody tr th {\n        vertical-align: top;\n    }\n\n    .dataframe thead th {\n        text-align: right;\n    }\n</style>\n<table border=\"1\" class=\"dataframe\">\n  <thead>\n    <tr style=\"text-align: right;\">\n      <th></th>\n      <th>Periodo</th>\n      <th>Cantidad Pagos al mes</th>\n    </tr>\n  </thead>\n  <tbody>\n    <tr>\n      <th>121</th>\n      <td>2016-11</td>\n      <td>15665365.74</td>\n    </tr>\n    <tr>\n      <th>85</th>\n      <td>2013-11</td>\n      <td>16172738.39</td>\n    </tr>\n    <tr>\n      <th>134</th>\n      <td>2017-12</td>\n      <td>16648400.63</td>\n    </tr>\n    <tr>\n      <th>117</th>\n      <td>2016-07</td>\n      <td>18649657.18</td>\n    </tr>\n    <tr>\n      <th>132</th>\n      <td>2017-10</td>\n      <td>20235857.23</td>\n    </tr>\n  </tbody>\n</table>\n</div>"
     },
     "metadata": {}
    }
   ],
   "execution_count": null
  },
  {
   "cell_type": "code",
   "source": "sns.set_style(\"whitegrid\")\nplt.figure(figsize=(10,6))\nfig= sns.barplot(\n    data=Muestra_menores,\n    y='Cantidad Pagos al mes',\n    x='Periodo'\n)\nfig.set_title('Top 5 Menores')\nplt.show()",
   "metadata": {
    "cell_id": "96d94bda473d4acea7286292f4a7600f",
    "tags": [],
    "deepnote_to_be_reexecuted": false,
    "source_hash": "dc525dfb",
    "execution_start": 1659307264659,
    "execution_millis": 270,
    "deepnote_cell_type": "code",
    "deepnote_cell_height": 599.84375
   },
   "outputs": [
    {
     "data": {
      "text/plain": "<Figure size 720x432 with 1 Axes>",
      "image/png": "[encoded data removed]"
     },
     "metadata": {
      "needs_background": "light",
      "image/png": {
       "width": 631,
       "height": 387
      }
     },
     "output_type": "display_data"
    }
   ],
   "execution_count": null
  },
  {
   "cell_type": "code",
   "source": "## Periodo con mayor pago\n\nplt.figure(figsize=(10,6))\nfig = sns.barplot(\n    data=Muestra_mayores,\n    y='Cantidad Pagos al mes',\n    x='Periodo'\n)\nfig.set_title('Top 5 Mayores')\nplt.show()\n",
   "metadata": {
    "cell_id": "2b5e4eb86cd84430971ed0274adbf8a6",
    "tags": [],
    "deepnote_to_be_reexecuted": false,
    "source_hash": "986f8bdf",
    "execution_start": 1659307266541,
    "execution_millis": 806,
    "deepnote_table_state": {
     "pageSize": 10,
     "pageIndex": 0,
     "filters": [],
     "sortBy": [
      {
       "id": "Periodo Con menos Pagos",
       "type": "desc"
      }
     ]
    },
    "deepnote_table_loading": false,
    "deepnote_table_invalid": false,
    "deepnote_cell_type": "code",
    "deepnote_cell_height": 645.265625
   },
   "outputs": [
    {
     "data": {
      "text/plain": "<Figure size 720x432 with 1 Axes>",
      "image/png": "[encoded data removed]"
     },
     "metadata": {
      "needs_background": "light",
      "image/png": {
       "width": 615,
       "height": 387
      }
     },
     "output_type": "display_data"
    }
   ],
   "execution_count": null
  },
  {
   "cell_type": "code",
   "source": "## Categoria con mayor participacion en recaudo de pago \n\nMedia_Recaudo_pago = df_prueba.groupby(['categoria'])['PagodelMes'].mean().reset_index(name = 'Promedio * Categoria')\nSum_Recaudo_pago = df_prueba.groupby(['categoria'])['PagodelMes'].sum().reset_index(name = 'Totales * Categoria')\n\nM_S_Recaudo = pd.merge(Media_Recaudo_pago,Sum_Recaudo_pago, on= 'categoria')\nS_Recaudo = M_S_Recaudo.sort_values('Totales * Categoria')\nM_Recaudo = M_S_Recaudo.sort_values('Promedio * Categoria')\nM_Recaudo\n",
   "metadata": {
    "cell_id": "744233dc1dc445deb90ae8083f76e00a",
    "tags": [],
    "deepnote_to_be_reexecuted": false,
    "source_hash": "ce13debf",
    "execution_start": 1659307268645,
    "execution_millis": 29,
    "deepnote_table_state": {
     "pageSize": 10,
     "pageIndex": 0,
     "filters": [],
     "sortBy": []
    },
    "deepnote_table_loading": false,
    "deepnote_cell_type": "code",
    "deepnote_cell_height": 475
   },
   "outputs": [
    {
     "output_type": "execute_result",
     "execution_count": 7,
     "data": {
      "application/vnd.deepnote.dataframe.v3+json": {
       "column_count": 3,
       "row_count": 3,
       "columns": [
        {
         "name": "categoria",
         "dtype": "object",
         "stats": {
          "unique_count": 3,
          "nan_count": 0,
          "categories": [
           {
            "name": "A",
            "count": 1
           },
           {
            "name": "B",
            "count": 1
           },
           {
            "name": "C",
            "count": 1
           }
          ]
         }
        },
        {
         "name": "Promedio * Categoria",
         "dtype": "float64",
         "stats": {
          "unique_count": 3,
          "nan_count": 0,
          "min": "5797.648433097431",
          "max": "35694.99815591681",
          "histogram": [
           {
            "bin_start": 5797.648433097431,
            "bin_end": 8787.383405379369,
            "count": 1
           },
           {
            "bin_start": 8787.383405379369,
            "bin_end": 11777.118377661307,
            "count": 0
           },
           {
            "bin_start": 11777.118377661307,
            "bin_end": 14766.853349943243,
            "count": 0
           },
           {
            "bin_start": 14766.853349943243,
            "bin_end": 17756.58832222518,
            "count": 1
           },
           {
            "bin_start": 17756.58832222518,
            "bin_end": 20746.32329450712,
            "count": 0
           },
           {
            "bin_start": 20746.32329450712,
            "bin_end": 23736.058266789056,
            "count": 0
           },
           {
            "bin_start": 23736.058266789056,
            "bin_end": 26725.793239070994,
            "count": 0
           },
           {
            "bin_start": 26725.793239070994,
            "bin_end": 29715.528211352932,
            "count": 0
           },
           {
            "bin_start": 29715.528211352932,
            "bin_end": 32705.26318363487,
            "count": 0
           },
           {
            "bin_start": 32705.26318363487,
            "bin_end": 35694.99815591681,
            "count": 1
           }
          ]
         }
        },
        {
         "name": "Totales * Categoria",
         "dtype": "float64",
         "stats": {
          "unique_count": 3,
          "nan_count": 0,
          "min": "175309293.3200001",
          "max": "330443777.35000014",
          "histogram": [
           {
            "bin_start": 175309293.3200001,
            "bin_end": 190822741.7230001,
            "count": 1
           },
           {
            "bin_start": 190822741.7230001,
            "bin_end": 206336190.1260001,
            "count": 1
           },
           {
            "bin_start": 206336190.1260001,
            "bin_end": 221849638.5290001,
            "count": 0
           },
           {
            "bin_start": 221849638.5290001,
            "bin_end": 237363086.93200013,
            "count": 0
           },
           {
            "bin_start": 237363086.93200013,
            "bin_end": 252876535.33500013,
            "count": 0
           },
           {
            "bin_start": 252876535.33500013,
            "bin_end": 268389983.73800012,
            "count": 0
           },
           {
            "bin_start": 268389983.73800012,
            "bin_end": 283903432.14100015,
            "count": 0
           },
           {
            "bin_start": 283903432.14100015,
            "bin_end": 299416880.54400015,
            "count": 0
           },
           {
            "bin_start": 299416880.54400015,
            "bin_end": 314930328.94700015,
            "count": 0
           },
           {
            "bin_start": 314930328.94700015,
            "bin_end": 330443777.35000014,
            "count": 1
           }
          ]
         }
        },
        {
         "name": "_deepnote_index_column",
         "dtype": "int64"
        }
       ],
       "rows": [
        {
         "categoria": "A",
         "Promedio * Categoria": 5797.648433097431,
         "Totales * Categoria": 175309293.3200001,
         "_deepnote_index_column": 0
        },
        {
         "categoria": "B",
         "Promedio * Categoria": 17352.50629365122,
         "Totales * Categoria": 330443777.35000014,
         "_deepnote_index_column": 1
        },
        {
         "categoria": "C",
         "Promedio * Categoria": 35694.99815591681,
         "Totales * Categoria": 204211084.45000005,
         "_deepnote_index_column": 2
        }
       ]
      },
      "text/plain": "  categoria  Promedio * Categoria  Totales * Categoria\n0         A           5797.648433         1.753093e+08\n1         B          17352.506294         3.304438e+08\n2         C          35694.998156         2.042111e+08",
      "text/html": "<div>\n<style scoped>\n    .dataframe tbody tr th:only-of-type {\n        vertical-align: middle;\n    }\n\n    .dataframe tbody tr th {\n        vertical-align: top;\n    }\n\n    .dataframe thead th {\n        text-align: right;\n    }\n</style>\n<table border=\"1\" class=\"dataframe\">\n  <thead>\n    <tr style=\"text-align: right;\">\n      <th></th>\n      <th>categoria</th>\n      <th>Promedio * Categoria</th>\n      <th>Totales * Categoria</th>\n    </tr>\n  </thead>\n  <tbody>\n    <tr>\n      <th>0</th>\n      <td>A</td>\n      <td>5797.648433</td>\n      <td>1.753093e+08</td>\n    </tr>\n    <tr>\n      <th>1</th>\n      <td>B</td>\n      <td>17352.506294</td>\n      <td>3.304438e+08</td>\n    </tr>\n    <tr>\n      <th>2</th>\n      <td>C</td>\n      <td>35694.998156</td>\n      <td>2.042111e+08</td>\n    </tr>\n  </tbody>\n</table>\n</div>"
     },
     "metadata": {}
    }
   ],
   "execution_count": null
  },
  {
   "cell_type": "code",
   "source": "## Contegoria con mayor Pago\n\nplt.figure(figsize=(10,6))\nfig = sns.barplot(\n    data=S_Recaudo,\n    y='Totales * Categoria',\n    x='categoria'\n)\nfig.set_title('Categorias con Mayores Pago Σ')\nplt.show()\n",
   "metadata": {
    "cell_id": "c58a2c481c9f4d0d8b21a700af017bcb",
    "tags": [],
    "deepnote_to_be_reexecuted": false,
    "source_hash": "f06d3438",
    "execution_start": 1659307270249,
    "execution_millis": 206,
    "deepnote_cell_type": "code",
    "deepnote_cell_height": 648.921875
   },
   "outputs": [
    {
     "data": {
      "text/plain": "<Figure size 720x432 with 1 Axes>",
      "image/png": "[encoded data removed]"
     },
     "metadata": {
      "needs_background": "light",
      "image/png": {
       "width": 609,
       "height": 387
      }
     },
     "output_type": "display_data"
    }
   ],
   "execution_count": null
  },
  {
   "cell_type": "code",
   "source": "## Contegoria con mayor Pago\n\nplt.figure(figsize=(10,6))\nfig = sns.barplot(\n    data=M_Recaudo,\n    y='Promedio * Categoria',\n    x='categoria'\n)\nfig.set_title('Categorias con Mayores Pago promedio')\n\nplt.show()",
   "metadata": {
    "cell_id": "32b42ab9034c488396e773f2cd225f15",
    "tags": [],
    "deepnote_to_be_reexecuted": false,
    "source_hash": "266565b",
    "execution_start": 1659307272052,
    "execution_millis": 919,
    "deepnote_cell_type": "code",
    "deepnote_cell_height": 639.90625
   },
   "outputs": [
    {
     "data": {
      "text/plain": "<Figure size 720x432 with 1 Axes>",
      "image/png": "[encoded data removed]"
     },
     "metadata": {
      "needs_background": "light",
      "image/png": {
       "width": 624,
       "height": 387
      }
     },
     "output_type": "display_data"
    }
   ],
   "execution_count": null
  },
  {
   "cell_type": "code",
   "source": "#Saldo Promedio, Por cada SEGMENTO\n\nSaldo_segmento = df_prueba.groupby(['segmento'])['Saldo'].mean().reset_index(name = 'Saldo Promedio')\n\nSaldo_segmento = Saldo_segmento.sort_values('Saldo Promedio')\nSaldo_segmento",
   "metadata": {
    "cell_id": "63699ece93934fca8d5076fbdea8a546",
    "tags": [],
    "deepnote_to_be_reexecuted": false,
    "source_hash": "c3ed1f3b",
    "execution_start": 1659307273496,
    "execution_millis": 24,
    "deepnote_cell_type": "code",
    "deepnote_cell_height": 444
   },
   "outputs": [
    {
     "output_type": "execute_result",
     "execution_count": 10,
     "data": {
      "application/vnd.deepnote.dataframe.v3+json": {
       "column_count": 2,
       "row_count": 4,
       "columns": [
        {
         "name": "segmento",
         "dtype": "object",
         "stats": {
          "unique_count": 4,
          "nan_count": 0,
          "categories": [
           {
            "name": "Segemnto_Basico",
            "count": 1
           },
           {
            "name": "Segmento_Joven",
            "count": 1
           },
           {
            "name": "2 others",
            "count": 2
           }
          ]
         }
        },
        {
         "name": "Saldo Promedio",
         "dtype": "float64",
         "stats": {
          "unique_count": 4,
          "nan_count": 0,
          "min": "226885.3004160017",
          "max": "976178.0177188335",
          "histogram": [
           {
            "bin_start": 226885.3004160017,
            "bin_end": 301814.57214628486,
            "count": 1
           },
           {
            "bin_start": 301814.57214628486,
            "bin_end": 376743.8438765681,
            "count": 1
           },
           {
            "bin_start": 376743.8438765681,
            "bin_end": 451673.1156068513,
            "count": 1
           },
           {
            "bin_start": 451673.1156068513,
            "bin_end": 526602.3873371345,
            "count": 0
           },
           {
            "bin_start": 526602.3873371345,
            "bin_end": 601531.6590674176,
            "count": 0
           },
           {
            "bin_start": 601531.6590674176,
            "bin_end": 676460.9307977008,
            "count": 0
           },
           {
            "bin_start": 676460.9307977008,
            "bin_end": 751390.202527984,
            "count": 0
           },
           {
            "bin_start": 751390.202527984,
            "bin_end": 826319.4742582672,
            "count": 0
           },
           {
            "bin_start": 826319.4742582672,
            "bin_end": 901248.7459885504,
            "count": 0
           },
           {
            "bin_start": 901248.7459885504,
            "bin_end": 976178.0177188335,
            "count": 1
           }
          ]
         }
        },
        {
         "name": "_deepnote_index_column",
         "dtype": "int64"
        }
       ],
       "rows": [
        {
         "segmento": "Segemnto_Basico",
         "Saldo Promedio": 226885.3004160017,
         "_deepnote_index_column": 0
        },
        {
         "segmento": "Segmento_Joven",
         "Saldo Promedio": 316071.39609919186,
         "_deepnote_index_column": 2
        },
        {
         "segmento": "Segmento_Medio",
         "Saldo Promedio": 432391.29638532334,
         "_deepnote_index_column": 3
        },
        {
         "segmento": "Segmento_Alto",
         "Saldo Promedio": 976178.0177188335,
         "_deepnote_index_column": 1
        }
       ]
      },
      "text/plain": "          segmento  Saldo Promedio\n0  Segemnto_Basico   226885.300416\n2   Segmento_Joven   316071.396099\n3   Segmento_Medio   432391.296385\n1    Segmento_Alto   976178.017719",
      "text/html": "<div>\n<style scoped>\n    .dataframe tbody tr th:only-of-type {\n        vertical-align: middle;\n    }\n\n    .dataframe tbody tr th {\n        vertical-align: top;\n    }\n\n    .dataframe thead th {\n        text-align: right;\n    }\n</style>\n<table border=\"1\" class=\"dataframe\">\n  <thead>\n    <tr style=\"text-align: right;\">\n      <th></th>\n      <th>segmento</th>\n      <th>Saldo Promedio</th>\n    </tr>\n  </thead>\n  <tbody>\n    <tr>\n      <th>0</th>\n      <td>Segemnto_Basico</td>\n      <td>226885.300416</td>\n    </tr>\n    <tr>\n      <th>2</th>\n      <td>Segmento_Joven</td>\n      <td>316071.396099</td>\n    </tr>\n    <tr>\n      <th>3</th>\n      <td>Segmento_Medio</td>\n      <td>432391.296385</td>\n    </tr>\n    <tr>\n      <th>1</th>\n      <td>Segmento_Alto</td>\n      <td>976178.017719</td>\n    </tr>\n  </tbody>\n</table>\n</div>"
     },
     "metadata": {}
    }
   ],
   "execution_count": null
  },
  {
   "cell_type": "code",
   "source": "#Saldo Promedio, Por cada SEGMENTO\n\nplt.figure(figsize=(10,6))\nfig = sns.barplot(\n    data=Saldo_segmento,\n    y='Saldo Promedio',\n    x='segmento'\n)\nfig.set_title('Saldo promedio vs Segmento')\n\nplt.show()\n",
   "metadata": {
    "cell_id": "c77f4f084c22491d97d4a1b34494930b",
    "tags": [],
    "deepnote_to_be_reexecuted": false,
    "source_hash": "f842c6d9",
    "execution_start": 1659307275104,
    "execution_millis": 753,
    "deepnote_cell_type": "code",
    "deepnote_cell_height": 667.890625
   },
   "outputs": [
    {
     "data": {
      "text/plain": "<Figure size 720x432 with 1 Axes>",
      "image/png": "[encoded data removed]"
     },
     "metadata": {
      "needs_background": "light",
      "image/png": {
       "width": 609,
       "height": 388
      }
     },
     "output_type": "display_data"
    }
   ],
   "execution_count": null
  },
  {
   "cell_type": "code",
   "source": "# Valor Mora vs Estrato vs Nivel Educativo \n\nplt.figure(figsize=(10,6))\nsns.barplot(\n    data=df_prueba,\n    x='estrato',\n    y='VrMora',    \n    hue='nivel_educativo'\n)\nplt.show()",
   "metadata": {
    "cell_id": "85c25a690a6d474a946ec6ef8cd8f8b8",
    "tags": [],
    "deepnote_to_be_reexecuted": false,
    "source_hash": "fb503684",
    "execution_start": 1659307276754,
    "execution_millis": 953,
    "deepnote_cell_type": "code",
    "deepnote_cell_height": 602.890625
   },
   "outputs": [
    {
     "data": {
      "text/plain": "<Figure size 720x432 with 1 Axes>",
      "image/png": "[encoded data removed]"
     },
     "metadata": {
      "needs_background": "light",
      "image/png": {
       "width": 631,
       "height": 371
      }
     },
     "output_type": "display_data"
    }
   ],
   "execution_count": null
  },
  {
   "cell_type": "code",
   "source": "# Valor Mora vs Estrato vs Nivel Educativo \n\nplt.figure(figsize=(10,6))\nsns.catplot(\n    data=df_prueba,\n    x='estrato',\n    y='VrMora',    \n    hue='nivel_educativo'\n);\nplt.show()",
   "metadata": {
    "cell_id": "d2b18984e2e84a69bb852207ea6fbc02",
    "tags": [],
    "deepnote_to_be_reexecuted": false,
    "source_hash": "3818f17",
    "execution_start": 1659307278541,
    "execution_millis": 1002,
    "deepnote_cell_type": "code",
    "deepnote_cell_height": 660.1875
   },
   "outputs": [
    {
     "data": {
      "text/plain": "<Figure size 720x432 with 0 Axes>"
     },
     "metadata": {},
     "output_type": "display_data"
    },
    {
     "data": {
      "text/plain": "<Figure size 494.75x360 with 1 Axes>",
      "image/png": "[encoded data removed]"
     },
     "metadata": {
      "needs_background": "light",
      "image/png": {
       "width": 475,
       "height": 352
      }
     },
     "output_type": "display_data"
    }
   ],
   "execution_count": null
  },
  {
   "cell_type": "code",
   "source": "# Valor Saldo vs Edad \n\nplt.figure(figsize=(15,8))\nsns.lineplot(\n    data=df_prueba,\n    x='edad',\n    y='Saldo',\n    hue='Genero'\n)\nplt.show()",
   "metadata": {
    "cell_id": "6fc5ccda6dd04918b6bc240ba275edd7",
    "tags": [],
    "deepnote_to_be_reexecuted": false,
    "source_hash": "de33ea6e",
    "execution_start": 1659307280318,
    "execution_millis": 2932,
    "deepnote_cell_type": "code",
    "deepnote_cell_height": 567.203125
   },
   "outputs": [
    {
     "data": {
      "text/plain": "<Figure size 1080x576 with 1 Axes>",
      "image/png": "[encoded data removed]"
     },
     "metadata": {
      "needs_background": "light",
      "image/png": {
       "width": 910,
       "height": 480
      }
     },
     "output_type": "display_data"
    }
   ],
   "execution_count": null
  },
  {
   "cell_type": "markdown",
   "source": "2 Reporte de linea de Subsidio Genero",
   "metadata": {
    "cell_id": "32c188312bca4782b1891934416d0732",
    "tags": [],
    "deepnote_cell_type": "markdown",
    "deepnote_cell_height": 52.390625
   }
  },
  {
   "cell_type": "code",
   "source": "#2 Reporte de linea de Subsidio Genero\n\n## Agrupacion por Genero\nCuota_Monetaria_Genero = df_prueba.groupby(['Genero'])['cuota_monetaria'].sum().reset_index(name = 'Total Cuota Monetaria')\nSub_vivienda_Genero = df_prueba.groupby(['Genero'])['sub_vivenda'].sum().reset_index(name = 'Total Subsidio Vivienda')\nBono_lonchera_Genero = df_prueba.groupby(['Genero'])['bono_lonchera'].sum().reset_index(name = 'Total Bono Lonchera')\n\n## Join de datos\nunion1 = pd.merge(Cuota_Monetaria_Genero,Sub_vivienda_Genero, on='Genero')\nSegundo_Genero = pd.merge(union1,Bono_lonchera_Genero, on='Genero')\n\n## Creacion de Columna %\nSegundo_Genero = Segundo_Genero.assign(Por_CuotaMonetaria = lambda x: Segundo_Genero['Total Cuota Monetaria']/10000000000)\nSegundo_Genero = Segundo_Genero.assign(Por_SubVivienda = lambda x: Segundo_Genero['Total Subsidio Vivienda']/5000000000)\nSegundo_Genero = Segundo_Genero.assign(Por_BonoLonchera = lambda x: Segundo_Genero['Total Bono Lonchera']/11000000000)\n\n\nSegundo_Genero\n",
   "metadata": {
    "cell_id": "9e0b76d0288c4c4990114a5e503a3097",
    "tags": [],
    "deepnote_to_be_reexecuted": false,
    "source_hash": "cf7ddc77",
    "execution_start": 1659307344044,
    "execution_millis": 475,
    "deepnote_cell_type": "code",
    "deepnote_cell_height": 613
   },
   "outputs": [
    {
     "output_type": "execute_result",
     "execution_count": 15,
     "data": {
      "application/vnd.deepnote.dataframe.v3+json": {
       "column_count": 7,
       "row_count": 2,
       "columns": [
        {
         "name": "Genero",
         "dtype": "object",
         "stats": {
          "unique_count": 2,
          "nan_count": 0,
          "categories": [
           {
            "name": "F",
            "count": 1
           },
           {
            "name": "M",
            "count": 1
           }
          ]
         }
        },
        {
         "name": "Total Cuota Monetaria",
         "dtype": "int64",
         "stats": {
          "unique_count": 2,
          "nan_count": 0,
          "min": "4576079125",
          "max": "4645177472",
          "histogram": [
           {
            "bin_start": 4576079125,
            "bin_end": 4582988959.7,
            "count": 1
           },
           {
            "bin_start": 4582988959.7,
            "bin_end": 4589898794.4,
            "count": 0
           },
           {
            "bin_start": 4589898794.4,
            "bin_end": 4596808629.1,
            "count": 0
           },
           {
            "bin_start": 4596808629.1,
            "bin_end": 4603718463.8,
            "count": 0
           },
           {
            "bin_start": 4603718463.8,
            "bin_end": 4610628298.5,
            "count": 0
           },
           {
            "bin_start": 4610628298.5,
            "bin_end": 4617538133.2,
            "count": 0
           },
           {
            "bin_start": 4617538133.2,
            "bin_end": 4624447967.9,
            "count": 0
           },
           {
            "bin_start": 4624447967.9,
            "bin_end": 4631357802.6,
            "count": 0
           },
           {
            "bin_start": 4631357802.6,
            "bin_end": 4638267637.3,
            "count": 0
           },
           {
            "bin_start": 4638267637.3,
            "bin_end": 4645177472,
            "count": 1
           }
          ]
         }
        },
        {
         "name": "Total Subsidio Vivienda",
         "dtype": "int64",
         "stats": {
          "unique_count": 2,
          "nan_count": 0,
          "min": "4564629393",
          "max": "4605236359",
          "histogram": [
           {
            "bin_start": 4564629393,
            "bin_end": 4568690089.6,
            "count": 1
           },
           {
            "bin_start": 4568690089.6,
            "bin_end": 4572750786.2,
            "count": 0
           },
           {
            "bin_start": 4572750786.2,
            "bin_end": 4576811482.8,
            "count": 0
           },
           {
            "bin_start": 4576811482.8,
            "bin_end": 4580872179.4,
            "count": 0
           },
           {
            "bin_start": 4580872179.4,
            "bin_end": 4584932876,
            "count": 0
           },
           {
            "bin_start": 4584932876,
            "bin_end": 4588993572.6,
            "count": 0
           },
           {
            "bin_start": 4588993572.6,
            "bin_end": 4593054269.2,
            "count": 0
           },
           {
            "bin_start": 4593054269.2,
            "bin_end": 4597114965.8,
            "count": 0
           },
           {
            "bin_start": 4597114965.8,
            "bin_end": 4601175662.4,
            "count": 0
           },
           {
            "bin_start": 4601175662.4,
            "bin_end": 4605236359,
            "count": 1
           }
          ]
         }
        },
        {
         "name": "Total Bono Lonchera",
         "dtype": "int64",
         "stats": {
          "unique_count": 2,
          "nan_count": 0,
          "min": "4565311934",
          "max": "4620509797",
          "histogram": [
           {
            "bin_start": 4565311934,
            "bin_end": 4570831720.3,
            "count": 1
           },
           {
            "bin_start": 4570831720.3,
            "bin_end": 4576351506.6,
            "count": 0
           },
           {
            "bin_start": 4576351506.6,
            "bin_end": 4581871292.9,
            "count": 0
           },
           {
            "bin_start": 4581871292.9,
            "bin_end": 4587391079.2,
            "count": 0
           },
           {
            "bin_start": 4587391079.2,
            "bin_end": 4592910865.5,
            "count": 0
           },
           {
            "bin_start": 4592910865.5,
            "bin_end": 4598430651.8,
            "count": 0
           },
           {
            "bin_start": 4598430651.8,
            "bin_end": 4603950438.1,
            "count": 0
           },
           {
            "bin_start": 4603950438.1,
            "bin_end": 4609470224.4,
            "count": 0
           },
           {
            "bin_start": 4609470224.4,
            "bin_end": 4614990010.7,
            "count": 0
           },
           {
            "bin_start": 4614990010.7,
            "bin_end": 4620509797,
            "count": 1
           }
          ]
         }
        },
        {
         "name": "Por_CuotaMonetaria",
         "dtype": "float64",
         "stats": {
          "unique_count": 2,
          "nan_count": 0,
          "min": "0.4576079125",
          "max": "0.4645177472",
          "histogram": [
           {
            "bin_start": 0.4576079125,
            "bin_end": 0.45829889597,
            "count": 1
           },
           {
            "bin_start": 0.45829889597,
            "bin_end": 0.45898987943999997,
            "count": 0
           },
           {
            "bin_start": 0.45898987943999997,
            "bin_end": 0.45968086291,
            "count": 0
           },
           {
            "bin_start": 0.45968086291,
            "bin_end": 0.46037184638,
            "count": 0
           },
           {
            "bin_start": 0.46037184638,
            "bin_end": 0.46106282985,
            "count": 0
           },
           {
            "bin_start": 0.46106282985,
            "bin_end": 0.46175381332,
            "count": 0
           },
           {
            "bin_start": 0.46175381332,
            "bin_end": 0.46244479679,
            "count": 0
           },
           {
            "bin_start": 0.46244479679,
            "bin_end": 0.46313578026,
            "count": 0
           },
           {
            "bin_start": 0.46313578026,
            "bin_end": 0.46382676373,
            "count": 0
           },
           {
            "bin_start": 0.46382676373,
            "bin_end": 0.4645177472,
            "count": 1
           }
          ]
         }
        },
        {
         "name": "Por_SubVivienda",
         "dtype": "float64",
         "stats": {
          "unique_count": 2,
          "nan_count": 0,
          "min": "0.9129258786",
          "max": "0.9210472718",
          "histogram": [
           {
            "bin_start": 0.9129258786,
            "bin_end": 0.91373801792,
            "count": 1
           },
           {
            "bin_start": 0.91373801792,
            "bin_end": 0.91455015724,
            "count": 0
           },
           {
            "bin_start": 0.91455015724,
            "bin_end": 0.91536229656,
            "count": 0
           },
           {
            "bin_start": 0.91536229656,
            "bin_end": 0.91617443588,
            "count": 0
           },
           {
            "bin_start": 0.91617443588,
            "bin_end": 0.9169865751999999,
            "count": 0
           },
           {
            "bin_start": 0.9169865751999999,
            "bin_end": 0.91779871452,
            "count": 0
           },
           {
            "bin_start": 0.91779871452,
            "bin_end": 0.91861085384,
            "count": 0
           },
           {
            "bin_start": 0.91861085384,
            "bin_end": 0.91942299316,
            "count": 0
           },
           {
            "bin_start": 0.91942299316,
            "bin_end": 0.92023513248,
            "count": 0
           },
           {
            "bin_start": 0.92023513248,
            "bin_end": 0.9210472718,
            "count": 1
           }
          ]
         }
        },
        {
         "name": "Por_BonoLonchera",
         "dtype": "float64",
         "stats": {
          "unique_count": 2,
          "nan_count": 0,
          "min": "0.41502835763636364",
          "max": "0.42004634518181816",
          "histogram": [
           {
            "bin_start": 0.41502835763636364,
            "bin_end": 0.41553015639090907,
            "count": 1
           },
           {
            "bin_start": 0.41553015639090907,
            "bin_end": 0.41603195514545455,
            "count": 0
           },
           {
            "bin_start": 0.41603195514545455,
            "bin_end": 0.4165337539,
            "count": 0
           },
           {
            "bin_start": 0.4165337539,
            "bin_end": 0.41703555265454545,
            "count": 0
           },
           {
            "bin_start": 0.41703555265454545,
            "bin_end": 0.4175373514090909,
            "count": 0
           },
           {
            "bin_start": 0.4175373514090909,
            "bin_end": 0.41803915016363635,
            "count": 0
           },
           {
            "bin_start": 0.41803915016363635,
            "bin_end": 0.41854094891818183,
            "count": 0
           },
           {
            "bin_start": 0.41854094891818183,
            "bin_end": 0.41904274767272726,
            "count": 0
           },
           {
            "bin_start": 0.41904274767272726,
            "bin_end": 0.4195445464272727,
            "count": 0
           },
           {
            "bin_start": 0.4195445464272727,
            "bin_end": 0.42004634518181816,
            "count": 1
           }
          ]
         }
        },
        {
         "name": "_deepnote_index_column",
         "dtype": "int64"
        }
       ],
       "rows": [
        {
         "Genero": "F",
         "Total Cuota Monetaria": 4576079125,
         "Total Subsidio Vivienda": 4564629393,
         "Total Bono Lonchera": 4565311934,
         "Por_CuotaMonetaria": 0.4576079125,
         "Por_SubVivienda": 0.9129258786,
         "Por_BonoLonchera": 0.41502835763636364,
         "_deepnote_index_column": 0
        },
        {
         "Genero": "M",
         "Total Cuota Monetaria": 4645177472,
         "Total Subsidio Vivienda": 4605236359,
         "Total Bono Lonchera": 4620509797,
         "Por_CuotaMonetaria": 0.4645177472,
         "Por_SubVivienda": 0.9210472718,
         "Por_BonoLonchera": 0.42004634518181816,
         "_deepnote_index_column": 1
        }
       ]
      },
      "text/plain": "  Genero  Total Cuota Monetaria  Total Subsidio Vivienda  Total Bono Lonchera  \\\n0      F             4576079125               4564629393           4565311934   \n1      M             4645177472               4605236359           4620509797   \n\n   Por_CuotaMonetaria  Por_SubVivienda  Por_BonoLonchera  \n0            0.457608         0.912926          0.415028  \n1            0.464518         0.921047          0.420046  ",
      "text/html": "<div>\n<style scoped>\n    .dataframe tbody tr th:only-of-type {\n        vertical-align: middle;\n    }\n\n    .dataframe tbody tr th {\n        vertical-align: top;\n    }\n\n    .dataframe thead th {\n        text-align: right;\n    }\n</style>\n<table border=\"1\" class=\"dataframe\">\n  <thead>\n    <tr style=\"text-align: right;\">\n      <th></th>\n      <th>Genero</th>\n      <th>Total Cuota Monetaria</th>\n      <th>Total Subsidio Vivienda</th>\n      <th>Total Bono Lonchera</th>\n      <th>Por_CuotaMonetaria</th>\n      <th>Por_SubVivienda</th>\n      <th>Por_BonoLonchera</th>\n    </tr>\n  </thead>\n  <tbody>\n    <tr>\n      <th>0</th>\n      <td>F</td>\n      <td>4576079125</td>\n      <td>4564629393</td>\n      <td>4565311934</td>\n      <td>0.457608</td>\n      <td>0.912926</td>\n      <td>0.415028</td>\n    </tr>\n    <tr>\n      <th>1</th>\n      <td>M</td>\n      <td>4645177472</td>\n      <td>4605236359</td>\n      <td>4620509797</td>\n      <td>0.464518</td>\n      <td>0.921047</td>\n      <td>0.420046</td>\n    </tr>\n  </tbody>\n</table>\n</div>"
     },
     "metadata": {}
    }
   ],
   "execution_count": null
  },
  {
   "cell_type": "code",
   "source": "## Agrupacion por Categoria\nCuota_Monetaria_Genero = df_prueba.groupby(['categoria'])['cuota_monetaria'].sum().reset_index(name = 'Total Cuota Monetaria')\nSub_vivienda_Genero = df_prueba.groupby(['categoria'])['sub_vivenda'].sum().reset_index(name = 'Total Subsidio Vivienda')\nBono_lonchera_Genero = df_prueba.groupby(['categoria'])['bono_lonchera'].sum().reset_index(name = 'Total Bono Lonchera')\n\n## Join de datos\nunion1 = pd.merge(Cuota_Monetaria_Genero,Sub_vivienda_Genero, on='categoria')\nunionTotal = pd.merge(union1,Bono_lonchera_Genero, on='categoria')\n\n## Creacion de Columna %\nunionTotal = unionTotal.assign(Por_CuotaMonetaria = lambda x: unionTotal['Total Cuota Monetaria']/10000000000)\nunionTotal = unionTotal.assign(Por_SubVivienda = lambda x: unionTotal['Total Subsidio Vivienda']/5000000000)\nunionTotal = unionTotal.assign(Por_BonoLonchera = lambda x: unionTotal['Total Bono Lonchera']/11000000000)\n\n\nunionTotal\n",
   "metadata": {
    "cell_id": "3463d0033b894cf5aee63694e591f485",
    "tags": [],
    "deepnote_to_be_reexecuted": false,
    "source_hash": "426da120",
    "execution_start": 1659307345439,
    "execution_millis": 22,
    "deepnote_cell_type": "code",
    "deepnote_cell_height": 618
   },
   "outputs": [
    {
     "output_type": "execute_result",
     "execution_count": 16,
     "data": {
      "application/vnd.deepnote.dataframe.v3+json": {
       "column_count": 7,
       "row_count": 3,
       "columns": [
        {
         "name": "categoria",
         "dtype": "object",
         "stats": {
          "unique_count": 3,
          "nan_count": 0,
          "categories": [
           {
            "name": "A",
            "count": 1
           },
           {
            "name": "B",
            "count": 1
           },
           {
            "name": "C",
            "count": 1
           }
          ]
         }
        },
        {
         "name": "Total Cuota Monetaria",
         "dtype": "int64",
         "stats": {
          "unique_count": 3,
          "nan_count": 0,
          "min": "957953597",
          "max": "5076023084",
          "histogram": [
           {
            "bin_start": 957953597,
            "bin_end": 1369760545.7,
            "count": 1
           },
           {
            "bin_start": 1369760545.7,
            "bin_end": 1781567494.4,
            "count": 0
           },
           {
            "bin_start": 1781567494.4,
            "bin_end": 2193374443.1,
            "count": 0
           },
           {
            "bin_start": 2193374443.1,
            "bin_end": 2605181391.8,
            "count": 0
           },
           {
            "bin_start": 2605181391.8,
            "bin_end": 3016988340.5,
            "count": 0
           },
           {
            "bin_start": 3016988340.5,
            "bin_end": 3428795289.2,
            "count": 1
           },
           {
            "bin_start": 3428795289.2,
            "bin_end": 3840602237.9,
            "count": 0
           },
           {
            "bin_start": 3840602237.9,
            "bin_end": 4252409186.6,
            "count": 0
           },
           {
            "bin_start": 4252409186.6,
            "bin_end": 4664216135.299999,
            "count": 0
           },
           {
            "bin_start": 4664216135.299999,
            "bin_end": 5076023084,
            "count": 1
           }
          ]
         }
        },
        {
         "name": "Total Subsidio Vivienda",
         "dtype": "int64",
         "stats": {
          "unique_count": 3,
          "nan_count": 0,
          "min": "958045896",
          "max": "5035619958",
          "histogram": [
           {
            "bin_start": 958045896,
            "bin_end": 1365803302.2,
            "count": 1
           },
           {
            "bin_start": 1365803302.2,
            "bin_end": 1773560708.4,
            "count": 0
           },
           {
            "bin_start": 1773560708.4,
            "bin_end": 2181318114.6,
            "count": 0
           },
           {
            "bin_start": 2181318114.6,
            "bin_end": 2589075520.8,
            "count": 0
           },
           {
            "bin_start": 2589075520.8,
            "bin_end": 2996832927,
            "count": 0
           },
           {
            "bin_start": 2996832927,
            "bin_end": 3404590333.2,
            "count": 1
           },
           {
            "bin_start": 3404590333.2,
            "bin_end": 3812347739.4,
            "count": 0
           },
           {
            "bin_start": 3812347739.4,
            "bin_end": 4220105145.6,
            "count": 0
           },
           {
            "bin_start": 4220105145.6,
            "bin_end": 4627862551.799999,
            "count": 0
           },
           {
            "bin_start": 4627862551.799999,
            "bin_end": 5035619958,
            "count": 1
           }
          ]
         }
        },
        {
         "name": "Total Bono Lonchera",
         "dtype": "int64",
         "stats": {
          "unique_count": 3,
          "nan_count": 0,
          "min": "957000470",
          "max": "5054816579",
          "histogram": [
           {
            "bin_start": 957000470,
            "bin_end": 1366782080.9,
            "count": 1
           },
           {
            "bin_start": 1366782080.9,
            "bin_end": 1776563691.8,
            "count": 0
           },
           {
            "bin_start": 1776563691.8,
            "bin_end": 2186345302.7,
            "count": 0
           },
           {
            "bin_start": 2186345302.7,
            "bin_end": 2596126913.6,
            "count": 0
           },
           {
            "bin_start": 2596126913.6,
            "bin_end": 3005908524.5,
            "count": 0
           },
           {
            "bin_start": 3005908524.5,
            "bin_end": 3415690135.3999996,
            "count": 1
           },
           {
            "bin_start": 3415690135.3999996,
            "bin_end": 3825471746.2999997,
            "count": 0
           },
           {
            "bin_start": 3825471746.2999997,
            "bin_end": 4235253357.2,
            "count": 0
           },
           {
            "bin_start": 4235253357.2,
            "bin_end": 4645034968.1,
            "count": 0
           },
           {
            "bin_start": 4645034968.1,
            "bin_end": 5054816579,
            "count": 1
           }
          ]
         }
        },
        {
         "name": "Por_CuotaMonetaria",
         "dtype": "float64",
         "stats": {
          "unique_count": 3,
          "nan_count": 0,
          "min": "0.0957953597",
          "max": "0.5076023084",
          "histogram": [
           {
            "bin_start": 0.0957953597,
            "bin_end": 0.13697605457,
            "count": 1
           },
           {
            "bin_start": 0.13697605457,
            "bin_end": 0.17815674943999998,
            "count": 0
           },
           {
            "bin_start": 0.17815674943999998,
            "bin_end": 0.21933744431,
            "count": 0
           },
           {
            "bin_start": 0.21933744431,
            "bin_end": 0.26051813918,
            "count": 0
           },
           {
            "bin_start": 0.26051813918,
            "bin_end": 0.30169883405,
            "count": 0
           },
           {
            "bin_start": 0.30169883405,
            "bin_end": 0.34287952891999995,
            "count": 1
           },
           {
            "bin_start": 0.34287952891999995,
            "bin_end": 0.38406022379000004,
            "count": 0
           },
           {
            "bin_start": 0.38406022379000004,
            "bin_end": 0.42524091866,
            "count": 0
           },
           {
            "bin_start": 0.42524091866,
            "bin_end": 0.46642161353,
            "count": 0
           },
           {
            "bin_start": 0.46642161353,
            "bin_end": 0.5076023084,
            "count": 1
           }
          ]
         }
        },
        {
         "name": "Por_SubVivienda",
         "dtype": "float64",
         "stats": {
          "unique_count": 3,
          "nan_count": 0,
          "min": "0.1916091792",
          "max": "1.0071239916",
          "histogram": [
           {
            "bin_start": 0.1916091792,
            "bin_end": 0.27316066044000004,
            "count": 1
           },
           {
            "bin_start": 0.27316066044000004,
            "bin_end": 0.35471214168000004,
            "count": 0
           },
           {
            "bin_start": 0.35471214168000004,
            "bin_end": 0.4362636229200001,
            "count": 0
           },
           {
            "bin_start": 0.4362636229200001,
            "bin_end": 0.5178151041600001,
            "count": 0
           },
           {
            "bin_start": 0.5178151041600001,
            "bin_end": 0.5993665854000001,
            "count": 0
           },
           {
            "bin_start": 0.5993665854000001,
            "bin_end": 0.6809180666400001,
            "count": 1
           },
           {
            "bin_start": 0.6809180666400001,
            "bin_end": 0.7624695478800001,
            "count": 0
           },
           {
            "bin_start": 0.7624695478800001,
            "bin_end": 0.8440210291200001,
            "count": 0
           },
           {
            "bin_start": 0.8440210291200001,
            "bin_end": 0.9255725103600001,
            "count": 0
           },
           {
            "bin_start": 0.9255725103600001,
            "bin_end": 1.0071239916,
            "count": 1
           }
          ]
         }
        },
        {
         "name": "Por_BonoLonchera",
         "dtype": "float64",
         "stats": {
          "unique_count": 3,
          "nan_count": 0,
          "min": "0.08700004272727273",
          "max": "0.4595287799090909",
          "histogram": [
           {
            "bin_start": 0.08700004272727273,
            "bin_end": 0.12425291644545455,
            "count": 1
           },
           {
            "bin_start": 0.12425291644545455,
            "bin_end": 0.16150579016363636,
            "count": 0
           },
           {
            "bin_start": 0.16150579016363636,
            "bin_end": 0.19875866388181818,
            "count": 0
           },
           {
            "bin_start": 0.19875866388181818,
            "bin_end": 0.2360115376,
            "count": 0
           },
           {
            "bin_start": 0.2360115376,
            "bin_end": 0.2732644113181818,
            "count": 0
           },
           {
            "bin_start": 0.2732644113181818,
            "bin_end": 0.31051728503636367,
            "count": 1
           },
           {
            "bin_start": 0.31051728503636367,
            "bin_end": 0.3477701587545455,
            "count": 0
           },
           {
            "bin_start": 0.3477701587545455,
            "bin_end": 0.3850230324727273,
            "count": 0
           },
           {
            "bin_start": 0.3850230324727273,
            "bin_end": 0.4222759061909091,
            "count": 0
           },
           {
            "bin_start": 0.4222759061909091,
            "bin_end": 0.4595287799090909,
            "count": 1
           }
          ]
         }
        },
        {
         "name": "_deepnote_index_column",
         "dtype": "int64"
        }
       ],
       "rows": [
        {
         "categoria": "A",
         "Total Cuota Monetaria": 5076023084,
         "Total Subsidio Vivienda": 5035619958,
         "Total Bono Lonchera": 5054816579,
         "Por_CuotaMonetaria": 0.5076023084,
         "Por_SubVivienda": 1.0071239916,
         "Por_BonoLonchera": 0.4595287799090909,
         "_deepnote_index_column": 0
        },
        {
         "categoria": "B",
         "Total Cuota Monetaria": 3187279916,
         "Total Subsidio Vivienda": 3176199898,
         "Total Bono Lonchera": 3174004682,
         "Por_CuotaMonetaria": 0.3187279916,
         "Por_SubVivienda": 0.6352399796,
         "Por_BonoLonchera": 0.2885458801818182,
         "_deepnote_index_column": 1
        },
        {
         "categoria": "C",
         "Total Cuota Monetaria": 957953597,
         "Total Subsidio Vivienda": 958045896,
         "Total Bono Lonchera": 957000470,
         "Por_CuotaMonetaria": 0.0957953597,
         "Por_SubVivienda": 0.1916091792,
         "Por_BonoLonchera": 0.08700004272727273,
         "_deepnote_index_column": 2
        }
       ]
      },
      "text/plain": "  categoria  Total Cuota Monetaria  Total Subsidio Vivienda  \\\n0         A             5076023084               5035619958   \n1         B             3187279916               3176199898   \n2         C              957953597                958045896   \n\n   Total Bono Lonchera  Por_CuotaMonetaria  Por_SubVivienda  Por_BonoLonchera  \n0           5054816579            0.507602         1.007124          0.459529  \n1           3174004682            0.318728         0.635240          0.288546  \n2            957000470            0.095795         0.191609          0.087000  ",
      "text/html": "<div>\n<style scoped>\n    .dataframe tbody tr th:only-of-type {\n        vertical-align: middle;\n    }\n\n    .dataframe tbody tr th {\n        vertical-align: top;\n    }\n\n    .dataframe thead th {\n        text-align: right;\n    }\n</style>\n<table border=\"1\" class=\"dataframe\">\n  <thead>\n    <tr style=\"text-align: right;\">\n      <th></th>\n      <th>categoria</th>\n      <th>Total Cuota Monetaria</th>\n      <th>Total Subsidio Vivienda</th>\n      <th>Total Bono Lonchera</th>\n      <th>Por_CuotaMonetaria</th>\n      <th>Por_SubVivienda</th>\n      <th>Por_BonoLonchera</th>\n    </tr>\n  </thead>\n  <tbody>\n    <tr>\n      <th>0</th>\n      <td>A</td>\n      <td>5076023084</td>\n      <td>5035619958</td>\n      <td>5054816579</td>\n      <td>0.507602</td>\n      <td>1.007124</td>\n      <td>0.459529</td>\n    </tr>\n    <tr>\n      <th>1</th>\n      <td>B</td>\n      <td>3187279916</td>\n      <td>3176199898</td>\n      <td>3174004682</td>\n      <td>0.318728</td>\n      <td>0.635240</td>\n      <td>0.288546</td>\n    </tr>\n    <tr>\n      <th>2</th>\n      <td>C</td>\n      <td>957953597</td>\n      <td>958045896</td>\n      <td>957000470</td>\n      <td>0.095795</td>\n      <td>0.191609</td>\n      <td>0.087000</td>\n    </tr>\n  </tbody>\n</table>\n</div>"
     },
     "metadata": {}
    }
   ],
   "execution_count": null
  },
  {
   "cell_type": "code",
   "source": "## Agrupacion por Segmento\nCuota_Monetaria_Genero = df_prueba.groupby(['segmento'])['cuota_monetaria'].sum().reset_index(name = 'Total Cuota Monetaria')\nSub_vivienda_Genero = df_prueba.groupby(['segmento'])['sub_vivenda'].sum().reset_index(name = 'Total Subsidio Vivienda')\nBono_lonchera_Genero = df_prueba.groupby(['segmento'])['bono_lonchera'].sum().reset_index(name = 'Total Bono Lonchera')\n\n## Join de datos\nunion1 = pd.merge(Cuota_Monetaria_Genero,Sub_vivienda_Genero, on='segmento')\nunionTotal = pd.merge(union1,Bono_lonchera_Genero, on='segmento')\n\n## Creacion de Columna %\nunionTotal = unionTotal.assign(Por_CuotaMonetaria = lambda x: unionTotal['Total Cuota Monetaria']/10000000000)\nunionTotal = unionTotal.assign(Por_SubVivienda = lambda x: unionTotal['Total Subsidio Vivienda']/5000000000)\nunionTotal = unionTotal.assign(Por_BonoLonchera = lambda x: unionTotal['Total Bono Lonchera']/11000000000)\n\n\nunionTotal\n",
   "metadata": {
    "cell_id": "6b63d668012f446ab3fb475f003d2443",
    "tags": [],
    "deepnote_to_be_reexecuted": false,
    "source_hash": "ce1c0040",
    "execution_start": 1659307347321,
    "execution_millis": 73,
    "deepnote_cell_type": "code",
    "deepnote_cell_height": 659
   },
   "outputs": [
    {
     "output_type": "execute_result",
     "execution_count": 17,
     "data": {
      "application/vnd.deepnote.dataframe.v3+json": {
       "column_count": 7,
       "row_count": 4,
       "columns": [
        {
         "name": "segmento",
         "dtype": "object",
         "stats": {
          "unique_count": 4,
          "nan_count": 0,
          "categories": [
           {
            "name": "Segemnto_Basico",
            "count": 1
           },
           {
            "name": "Segmento_Alto",
            "count": 1
           },
           {
            "name": "2 others",
            "count": 2
           }
          ]
         }
        },
        {
         "name": "Total Cuota Monetaria",
         "dtype": "int64",
         "stats": {
          "unique_count": 4,
          "nan_count": 0,
          "min": "189454102",
          "max": "4315283660",
          "histogram": [
           {
            "bin_start": 189454102,
            "bin_end": 602037057.8,
            "count": 1
           },
           {
            "bin_start": 602037057.8,
            "bin_end": 1014620013.6,
            "count": 1
           },
           {
            "bin_start": 1014620013.6,
            "bin_end": 1427202969.4,
            "count": 0
           },
           {
            "bin_start": 1427202969.4,
            "bin_end": 1839785925.2,
            "count": 0
           },
           {
            "bin_start": 1839785925.2,
            "bin_end": 2252368881,
            "count": 0
           },
           {
            "bin_start": 2252368881,
            "bin_end": 2664951836.8,
            "count": 0
           },
           {
            "bin_start": 2664951836.8,
            "bin_end": 3077534792.6,
            "count": 0
           },
           {
            "bin_start": 3077534792.6,
            "bin_end": 3490117748.4,
            "count": 0
           },
           {
            "bin_start": 3490117748.4,
            "bin_end": 3902700704.2000003,
            "count": 0
           },
           {
            "bin_start": 3902700704.2000003,
            "bin_end": 4315283660,
            "count": 2
           }
          ]
         }
        },
        {
         "name": "Total Subsidio Vivienda",
         "dtype": "int64",
         "stats": {
          "unique_count": 4,
          "nan_count": 0,
          "min": "189743001",
          "max": "4291912414",
          "histogram": [
           {
            "bin_start": 189743001,
            "bin_end": 599959942.3,
            "count": 2
           },
           {
            "bin_start": 599959942.3,
            "bin_end": 1010176883.6,
            "count": 0
           },
           {
            "bin_start": 1010176883.6,
            "bin_end": 1420393824.9,
            "count": 0
           },
           {
            "bin_start": 1420393824.9,
            "bin_end": 1830610766.2,
            "count": 0
           },
           {
            "bin_start": 1830610766.2,
            "bin_end": 2240827707.5,
            "count": 0
           },
           {
            "bin_start": 2240827707.5,
            "bin_end": 2651044648.8,
            "count": 0
           },
           {
            "bin_start": 2651044648.8,
            "bin_end": 3061261590.1,
            "count": 0
           },
           {
            "bin_start": 3061261590.1,
            "bin_end": 3471478531.4,
            "count": 0
           },
           {
            "bin_start": 3471478531.4,
            "bin_end": 3881695472.7000003,
            "count": 0
           },
           {
            "bin_start": 3881695472.7000003,
            "bin_end": 4291912414,
            "count": 2
           }
          ]
         }
        },
        {
         "name": "Total Bono Lonchera",
         "dtype": "int64",
         "stats": {
          "unique_count": 4,
          "nan_count": 0,
          "min": "189276112",
          "max": "4286876966",
          "histogram": [
           {
            "bin_start": 189276112,
            "bin_end": 599036197.4,
            "count": 1
           },
           {
            "bin_start": 599036197.4,
            "bin_end": 1008796282.8,
            "count": 1
           },
           {
            "bin_start": 1008796282.8,
            "bin_end": 1418556368.1999998,
            "count": 0
           },
           {
            "bin_start": 1418556368.1999998,
            "bin_end": 1828316453.6,
            "count": 0
           },
           {
            "bin_start": 1828316453.6,
            "bin_end": 2238076539,
            "count": 0
           },
           {
            "bin_start": 2238076539,
            "bin_end": 2647836624.3999996,
            "count": 0
           },
           {
            "bin_start": 2647836624.3999996,
            "bin_end": 3057596709.7999997,
            "count": 0
           },
           {
            "bin_start": 3057596709.7999997,
            "bin_end": 3467356795.2,
            "count": 0
           },
           {
            "bin_start": 3467356795.2,
            "bin_end": 3877116880.6,
            "count": 0
           },
           {
            "bin_start": 3877116880.6,
            "bin_end": 4286876966,
            "count": 2
           }
          ]
         }
        },
        {
         "name": "Por_CuotaMonetaria",
         "dtype": "float64",
         "stats": {
          "unique_count": 4,
          "nan_count": 0,
          "min": "0.0189454102",
          "max": "0.431528366",
          "histogram": [
           {
            "bin_start": 0.0189454102,
            "bin_end": 0.06020370578,
            "count": 1
           },
           {
            "bin_start": 0.06020370578,
            "bin_end": 0.10146200136,
            "count": 1
           },
           {
            "bin_start": 0.10146200136,
            "bin_end": 0.14272029694,
            "count": 0
           },
           {
            "bin_start": 0.14272029694,
            "bin_end": 0.18397859251999998,
            "count": 0
           },
           {
            "bin_start": 0.18397859251999998,
            "bin_end": 0.22523688809999998,
            "count": 0
           },
           {
            "bin_start": 0.22523688809999998,
            "bin_end": 0.26649518368,
            "count": 0
           },
           {
            "bin_start": 0.26649518368,
            "bin_end": 0.30775347926,
            "count": 0
           },
           {
            "bin_start": 0.30775347926,
            "bin_end": 0.34901177484,
            "count": 0
           },
           {
            "bin_start": 0.34901177484,
            "bin_end": 0.39027007042,
            "count": 0
           },
           {
            "bin_start": 0.39027007042,
            "bin_end": 0.431528366,
            "count": 2
           }
          ]
         }
        },
        {
         "name": "Por_SubVivienda",
         "dtype": "float64",
         "stats": {
          "unique_count": 4,
          "nan_count": 0,
          "min": "0.0379486002",
          "max": "0.8583824828",
          "histogram": [
           {
            "bin_start": 0.0379486002,
            "bin_end": 0.11999198845999999,
            "count": 2
           },
           {
            "bin_start": 0.11999198845999999,
            "bin_end": 0.20203537672,
            "count": 0
           },
           {
            "bin_start": 0.20203537672,
            "bin_end": 0.28407876497999995,
            "count": 0
           },
           {
            "bin_start": 0.28407876497999995,
            "bin_end": 0.36612215323999997,
            "count": 0
           },
           {
            "bin_start": 0.36612215323999997,
            "bin_end": 0.4481655415,
            "count": 0
           },
           {
            "bin_start": 0.4481655415,
            "bin_end": 0.5302089297599999,
            "count": 0
           },
           {
            "bin_start": 0.5302089297599999,
            "bin_end": 0.6122523180199999,
            "count": 0
           },
           {
            "bin_start": 0.6122523180199999,
            "bin_end": 0.6942957062799999,
            "count": 0
           },
           {
            "bin_start": 0.6942957062799999,
            "bin_end": 0.7763390945399999,
            "count": 0
           },
           {
            "bin_start": 0.7763390945399999,
            "bin_end": 0.8583824828,
            "count": 2
           }
          ]
         }
        },
        {
         "name": "Por_BonoLonchera",
         "dtype": "float64",
         "stats": {
          "unique_count": 4,
          "nan_count": 0,
          "min": "0.017206919272727272",
          "max": "0.38971608781818184",
          "histogram": [
           {
            "bin_start": 0.017206919272727272,
            "bin_end": 0.05445783612727273,
            "count": 1
           },
           {
            "bin_start": 0.05445783612727273,
            "bin_end": 0.09170875298181819,
            "count": 1
           },
           {
            "bin_start": 0.09170875298181819,
            "bin_end": 0.12895966983636364,
            "count": 0
           },
           {
            "bin_start": 0.12895966983636364,
            "bin_end": 0.1662105866909091,
            "count": 0
           },
           {
            "bin_start": 0.1662105866909091,
            "bin_end": 0.20346150354545456,
            "count": 0
           },
           {
            "bin_start": 0.20346150354545456,
            "bin_end": 0.24071242040000002,
            "count": 0
           },
           {
            "bin_start": 0.24071242040000002,
            "bin_end": 0.2779633372545455,
            "count": 0
           },
           {
            "bin_start": 0.2779633372545455,
            "bin_end": 0.31521425410909093,
            "count": 0
           },
           {
            "bin_start": 0.31521425410909093,
            "bin_end": 0.3524651709636364,
            "count": 0
           },
           {
            "bin_start": 0.3524651709636364,
            "bin_end": 0.38971608781818184,
            "count": 2
           }
          ]
         }
        },
        {
         "name": "_deepnote_index_column",
         "dtype": "int64"
        }
       ],
       "rows": [
        {
         "segmento": "Segemnto_Basico",
         "Total Cuota Monetaria": 4315283660,
         "Total Subsidio Vivienda": 4291912414,
         "Total Bono Lonchera": 4286876966,
         "Por_CuotaMonetaria": 0.431528366,
         "Por_SubVivienda": 0.8583824828,
         "Por_BonoLonchera": 0.38971608781818184,
         "_deepnote_index_column": 0
        },
        {
         "segmento": "Segmento_Alto",
         "Total Cuota Monetaria": 189454102,
         "Total Subsidio Vivienda": 189743001,
         "Total Bono Lonchera": 189276112,
         "Por_CuotaMonetaria": 0.0189454102,
         "Por_SubVivienda": 0.0379486002,
         "Por_BonoLonchera": 0.017206919272727272,
         "_deepnote_index_column": 1
        },
        {
         "segmento": "Segmento_Joven",
         "Total Cuota Monetaria": 602584954,
         "Total Subsidio Vivienda": 589601063,
         "Total Bono Lonchera": 603959666,
         "Por_CuotaMonetaria": 0.0602584954,
         "Por_SubVivienda": 0.1179202126,
         "Por_BonoLonchera": 0.05490542418181818,
         "_deepnote_index_column": 2
        },
        {
         "segmento": "Segmento_Medio",
         "Total Cuota Monetaria": 4113933881,
         "Total Subsidio Vivienda": 4098609274,
         "Total Bono Lonchera": 4105708987,
         "Por_CuotaMonetaria": 0.4113933881,
         "Por_SubVivienda": 0.8197218548,
         "Por_BonoLonchera": 0.37324627154545453,
         "_deepnote_index_column": 3
        }
       ]
      },
      "text/plain": "          segmento  Total Cuota Monetaria  Total Subsidio Vivienda  \\\n0  Segemnto_Basico             4315283660               4291912414   \n1    Segmento_Alto              189454102                189743001   \n2   Segmento_Joven              602584954                589601063   \n3   Segmento_Medio             4113933881               4098609274   \n\n   Total Bono Lonchera  Por_CuotaMonetaria  Por_SubVivienda  Por_BonoLonchera  \n0           4286876966            0.431528         0.858382          0.389716  \n1            189276112            0.018945         0.037949          0.017207  \n2            603959666            0.060258         0.117920          0.054905  \n3           4105708987            0.411393         0.819722          0.373246  ",
      "text/html": "<div>\n<style scoped>\n    .dataframe tbody tr th:only-of-type {\n        vertical-align: middle;\n    }\n\n    .dataframe tbody tr th {\n        vertical-align: top;\n    }\n\n    .dataframe thead th {\n        text-align: right;\n    }\n</style>\n<table border=\"1\" class=\"dataframe\">\n  <thead>\n    <tr style=\"text-align: right;\">\n      <th></th>\n      <th>segmento</th>\n      <th>Total Cuota Monetaria</th>\n      <th>Total Subsidio Vivienda</th>\n      <th>Total Bono Lonchera</th>\n      <th>Por_CuotaMonetaria</th>\n      <th>Por_SubVivienda</th>\n      <th>Por_BonoLonchera</th>\n    </tr>\n  </thead>\n  <tbody>\n    <tr>\n      <th>0</th>\n      <td>Segemnto_Basico</td>\n      <td>4315283660</td>\n      <td>4291912414</td>\n      <td>4286876966</td>\n      <td>0.431528</td>\n      <td>0.858382</td>\n      <td>0.389716</td>\n    </tr>\n    <tr>\n      <th>1</th>\n      <td>Segmento_Alto</td>\n      <td>189454102</td>\n      <td>189743001</td>\n      <td>189276112</td>\n      <td>0.018945</td>\n      <td>0.037949</td>\n      <td>0.017207</td>\n    </tr>\n    <tr>\n      <th>2</th>\n      <td>Segmento_Joven</td>\n      <td>602584954</td>\n      <td>589601063</td>\n      <td>603959666</td>\n      <td>0.060258</td>\n      <td>0.117920</td>\n      <td>0.054905</td>\n    </tr>\n    <tr>\n      <th>3</th>\n      <td>Segmento_Medio</td>\n      <td>4113933881</td>\n      <td>4098609274</td>\n      <td>4105708987</td>\n      <td>0.411393</td>\n      <td>0.819722</td>\n      <td>0.373246</td>\n    </tr>\n  </tbody>\n</table>\n</div>"
     },
     "metadata": {}
    }
   ],
   "execution_count": null
  },
  {
   "cell_type": "code",
   "source": "## Agrupacion por Nivel Educativo\nCuota_Monetaria_Genero = df_prueba.groupby(['nivel_educativo'])['cuota_monetaria'].sum().reset_index(name = 'Total Cuota Monetaria')\nSub_vivienda_Genero = df_prueba.groupby(['nivel_educativo'])['sub_vivenda'].sum().reset_index(name = 'Total Subsidio Vivienda')\nBono_lonchera_Genero = df_prueba.groupby(['nivel_educativo'])['bono_lonchera'].sum().reset_index(name = 'Total Bono Lonchera')\n\n## Join de datos\nunion1 = pd.merge(Cuota_Monetaria_Genero,Sub_vivienda_Genero, on='nivel_educativo')\nunionTotal = pd.merge(union1,Bono_lonchera_Genero, on='nivel_educativo')\n\n## Creacion de Columna %\nunionTotal = unionTotal.assign(Por_CuotaMonetaria = lambda x: unionTotal['Total Cuota Monetaria']/10000000000)\nunionTotal = unionTotal.assign(Por_SubVivienda = lambda x: unionTotal['Total Subsidio Vivienda']/5000000000)\nunionTotal = unionTotal.assign(Por_BonoLonchera = lambda x: unionTotal['Total Bono Lonchera']/11000000000)\n\n\nunionTotal",
   "metadata": {
    "cell_id": "a3fd268b95dc462997c2d07d33bb498c",
    "tags": [],
    "deepnote_to_be_reexecuted": false,
    "source_hash": "5cae4170",
    "execution_start": 1659307347855,
    "execution_millis": 53,
    "deepnote_cell_type": "code",
    "deepnote_cell_height": 682
   },
   "outputs": [
    {
     "output_type": "execute_result",
     "execution_count": 18,
     "data": {
      "application/vnd.deepnote.dataframe.v3+json": {
       "column_count": 7,
       "row_count": 5,
       "columns": [
        {
         "name": "nivel_educativo",
         "dtype": "object",
         "stats": {
          "unique_count": 5,
          "nan_count": 0,
          "categories": [
           {
            "name": "posgrado",
            "count": 1
           },
           {
            "name": "primaria",
            "count": 1
           },
           {
            "name": "3 others",
            "count": 3
           }
          ]
         }
        },
        {
         "name": "Total Cuota Monetaria",
         "dtype": "int64",
         "stats": {
          "unique_count": 5,
          "nan_count": 0,
          "min": "276266",
          "max": "4867776261",
          "histogram": [
           {
            "bin_start": 276266,
            "bin_end": 487026265.5,
            "count": 2
           },
           {
            "bin_start": 487026265.5,
            "bin_end": 973776265,
            "count": 1
           },
           {
            "bin_start": 973776265,
            "bin_end": 1460526264.5,
            "count": 0
           },
           {
            "bin_start": 1460526264.5,
            "bin_end": 1947276264,
            "count": 0
           },
           {
            "bin_start": 1947276264,
            "bin_end": 2434026263.5,
            "count": 0
           },
           {
            "bin_start": 2434026263.5,
            "bin_end": 2920776263,
            "count": 0
           },
           {
            "bin_start": 2920776263,
            "bin_end": 3407526262.5,
            "count": 1
           },
           {
            "bin_start": 3407526262.5,
            "bin_end": 3894276262,
            "count": 0
           },
           {
            "bin_start": 3894276262,
            "bin_end": 4381026261.5,
            "count": 0
           },
           {
            "bin_start": 4381026261.5,
            "bin_end": 4867776261,
            "count": 1
           }
          ]
         }
        },
        {
         "name": "Total Subsidio Vivienda",
         "dtype": "int64",
         "stats": {
          "unique_count": 5,
          "nan_count": 0,
          "min": "190999",
          "max": "4829358830",
          "histogram": [
           {
            "bin_start": 190999,
            "bin_end": 483107782.1,
            "count": 2
           },
           {
            "bin_start": 483107782.1,
            "bin_end": 966024565.2,
            "count": 1
           },
           {
            "bin_start": 966024565.2,
            "bin_end": 1448941348.3000002,
            "count": 0
           },
           {
            "bin_start": 1448941348.3000002,
            "bin_end": 1931858131.4,
            "count": 0
           },
           {
            "bin_start": 1931858131.4,
            "bin_end": 2414774914.5,
            "count": 0
           },
           {
            "bin_start": 2414774914.5,
            "bin_end": 2897691697.6000004,
            "count": 0
           },
           {
            "bin_start": 2897691697.6000004,
            "bin_end": 3380608480.7000003,
            "count": 1
           },
           {
            "bin_start": 3380608480.7000003,
            "bin_end": 3863525263.8,
            "count": 0
           },
           {
            "bin_start": 3863525263.8,
            "bin_end": 4346442046.900001,
            "count": 0
           },
           {
            "bin_start": 4346442046.900001,
            "bin_end": 4829358830,
            "count": 1
           }
          ]
         }
        },
        {
         "name": "Total Bono Lonchera",
         "dtype": "int64",
         "stats": {
          "unique_count": 5,
          "nan_count": 0,
          "min": "84655",
          "max": "4853827849",
          "histogram": [
           {
            "bin_start": 84655,
            "bin_end": 485458974.4,
            "count": 2
           },
           {
            "bin_start": 485458974.4,
            "bin_end": 970833293.8,
            "count": 1
           },
           {
            "bin_start": 970833293.8,
            "bin_end": 1456207613.1999998,
            "count": 0
           },
           {
            "bin_start": 1456207613.1999998,
            "bin_end": 1941581932.6,
            "count": 0
           },
           {
            "bin_start": 1941581932.6,
            "bin_end": 2426956252,
            "count": 0
           },
           {
            "bin_start": 2426956252,
            "bin_end": 2912330571.3999996,
            "count": 0
           },
           {
            "bin_start": 2912330571.3999996,
            "bin_end": 3397704890.7999997,
            "count": 1
           },
           {
            "bin_start": 3397704890.7999997,
            "bin_end": 3883079210.2,
            "count": 0
           },
           {
            "bin_start": 3883079210.2,
            "bin_end": 4368453529.599999,
            "count": 0
           },
           {
            "bin_start": 4368453529.599999,
            "bin_end": 4853827849,
            "count": 1
           }
          ]
         }
        },
        {
         "name": "Por_CuotaMonetaria",
         "dtype": "float64",
         "stats": {
          "unique_count": 5,
          "nan_count": 0,
          "min": "2.76266e-05",
          "max": "0.4867776261",
          "histogram": [
           {
            "bin_start": 0.0000276266,
            "bin_end": 0.04870262655,
            "count": 2
           },
           {
            "bin_start": 0.04870262655,
            "bin_end": 0.09737762650000001,
            "count": 1
           },
           {
            "bin_start": 0.09737762650000001,
            "bin_end": 0.14605262645,
            "count": 0
           },
           {
            "bin_start": 0.14605262645,
            "bin_end": 0.19472762640000002,
            "count": 0
           },
           {
            "bin_start": 0.19472762640000002,
            "bin_end": 0.24340262635000004,
            "count": 0
           },
           {
            "bin_start": 0.24340262635000004,
            "bin_end": 0.2920776263,
            "count": 0
           },
           {
            "bin_start": 0.2920776263,
            "bin_end": 0.34075262625,
            "count": 1
           },
           {
            "bin_start": 0.34075262625,
            "bin_end": 0.38942762620000004,
            "count": 0
           },
           {
            "bin_start": 0.38942762620000004,
            "bin_end": 0.43810262615000006,
            "count": 0
           },
           {
            "bin_start": 0.43810262615000006,
            "bin_end": 0.4867776261,
            "count": 1
           }
          ]
         }
        },
        {
         "name": "Por_SubVivienda",
         "dtype": "float64",
         "stats": {
          "unique_count": 5,
          "nan_count": 0,
          "min": "3.81998e-05",
          "max": "0.965871766",
          "histogram": [
           {
            "bin_start": 0.0000381998,
            "bin_end": 0.09662155642,
            "count": 2
           },
           {
            "bin_start": 0.09662155642,
            "bin_end": 0.19320491304,
            "count": 1
           },
           {
            "bin_start": 0.19320491304,
            "bin_end": 0.28978826966000004,
            "count": 0
           },
           {
            "bin_start": 0.28978826966000004,
            "bin_end": 0.38637162628000005,
            "count": 0
           },
           {
            "bin_start": 0.38637162628000005,
            "bin_end": 0.48295498290000005,
            "count": 0
           },
           {
            "bin_start": 0.48295498290000005,
            "bin_end": 0.57953833952,
            "count": 0
           },
           {
            "bin_start": 0.57953833952,
            "bin_end": 0.67612169614,
            "count": 1
           },
           {
            "bin_start": 0.67612169614,
            "bin_end": 0.77270505276,
            "count": 0
           },
           {
            "bin_start": 0.77270505276,
            "bin_end": 0.8692884093800001,
            "count": 0
           },
           {
            "bin_start": 0.8692884093800001,
            "bin_end": 0.965871766,
            "count": 1
           }
          ]
         }
        },
        {
         "name": "Por_BonoLonchera",
         "dtype": "float64",
         "stats": {
          "unique_count": 5,
          "nan_count": 0,
          "min": "7.695909090909092e-06",
          "max": "0.44125707718181817",
          "histogram": [
           {
            "bin_start": 0.000007695909090909092,
            "bin_end": 0.04413263403636364,
            "count": 2
           },
           {
            "bin_start": 0.04413263403636364,
            "bin_end": 0.08825757216363637,
            "count": 1
           },
           {
            "bin_start": 0.08825757216363637,
            "bin_end": 0.1323825102909091,
            "count": 0
           },
           {
            "bin_start": 0.1323825102909091,
            "bin_end": 0.17650744841818183,
            "count": 0
           },
           {
            "bin_start": 0.17650744841818183,
            "bin_end": 0.22063238654545456,
            "count": 0
           },
           {
            "bin_start": 0.22063238654545456,
            "bin_end": 0.2647573246727273,
            "count": 0
           },
           {
            "bin_start": 0.2647573246727273,
            "bin_end": 0.3088822628,
            "count": 1
           },
           {
            "bin_start": 0.3088822628,
            "bin_end": 0.3530072009272727,
            "count": 0
           },
           {
            "bin_start": 0.3530072009272727,
            "bin_end": 0.3971321390545455,
            "count": 0
           },
           {
            "bin_start": 0.3971321390545455,
            "bin_end": 0.44125707718181817,
            "count": 1
           }
          ]
         }
        },
        {
         "name": "_deepnote_index_column",
         "dtype": "int64"
        }
       ],
       "rows": [
        {
         "nivel_educativo": "posgrado",
         "Total Cuota Monetaria": 2381026,
         "Total Subsidio Vivienda": 2139840,
         "Total Bono Lonchera": 1908094,
         "Por_CuotaMonetaria": 0.0002381026,
         "Por_SubVivienda": 0.000427968,
         "Por_BonoLonchera": 0.0001734630909090909,
         "_deepnote_index_column": 0
        },
        {
         "nivel_educativo": "primaria",
         "Total Cuota Monetaria": 4867776261,
         "Total Subsidio Vivienda": 4829358830,
         "Total Bono Lonchera": 4853827849,
         "Por_CuotaMonetaria": 0.4867776261,
         "Por_SubVivienda": 0.965871766,
         "Por_BonoLonchera": 0.44125707718181817,
         "_deepnote_index_column": 1
        },
        {
         "nivel_educativo": "secundaria",
         "Total Cuota Monetaria": 960239074,
         "Total Subsidio Vivienda": 962618839,
         "Total Bono Lonchera": 953348351,
         "Por_CuotaMonetaria": 0.0960239074,
         "Por_SubVivienda": 0.1925237678,
         "Por_BonoLonchera": 0.0866680319090909,
         "_deepnote_index_column": 2
        },
        {
         "nivel_educativo": "tecnic_tecnologico",
         "Total Cuota Monetaria": 276266,
         "Total Subsidio Vivienda": 190999,
         "Total Bono Lonchera": 84655,
         "Por_CuotaMonetaria": 0.0000276266,
         "Por_SubVivienda": 0.0000381998,
         "Por_BonoLonchera": 0.000007695909090909092,
         "_deepnote_index_column": 3
        },
        {
         "nivel_educativo": "tecnico_tecnologico",
         "Total Cuota Monetaria": 3390583970,
         "Total Subsidio Vivienda": 3375557244,
         "Total Bono Lonchera": 3376652782,
         "Por_CuotaMonetaria": 0.339058397,
         "Por_SubVivienda": 0.6751114488,
         "Por_BonoLonchera": 0.30696843472727275,
         "_deepnote_index_column": 4
        }
       ]
      },
      "text/plain": "       nivel_educativo  Total Cuota Monetaria  Total Subsidio Vivienda  \\\n0             posgrado                2381026                  2139840   \n1             primaria             4867776261               4829358830   \n2           secundaria              960239074                962618839   \n3   tecnic_tecnologico                 276266                   190999   \n4  tecnico_tecnologico             3390583970               3375557244   \n\n   Total Bono Lonchera  Por_CuotaMonetaria  Por_SubVivienda  Por_BonoLonchera  \n0              1908094            0.000238         0.000428          0.000173  \n1           4853827849            0.486778         0.965872          0.441257  \n2            953348351            0.096024         0.192524          0.086668  \n3                84655            0.000028         0.000038          0.000008  \n4           3376652782            0.339058         0.675111          0.306968  ",
      "text/html": "<div>\n<style scoped>\n    .dataframe tbody tr th:only-of-type {\n        vertical-align: middle;\n    }\n\n    .dataframe tbody tr th {\n        vertical-align: top;\n    }\n\n    .dataframe thead th {\n        text-align: right;\n    }\n</style>\n<table border=\"1\" class=\"dataframe\">\n  <thead>\n    <tr style=\"text-align: right;\">\n      <th></th>\n      <th>nivel_educativo</th>\n      <th>Total Cuota Monetaria</th>\n      <th>Total Subsidio Vivienda</th>\n      <th>Total Bono Lonchera</th>\n      <th>Por_CuotaMonetaria</th>\n      <th>Por_SubVivienda</th>\n      <th>Por_BonoLonchera</th>\n    </tr>\n  </thead>\n  <tbody>\n    <tr>\n      <th>0</th>\n      <td>posgrado</td>\n      <td>2381026</td>\n      <td>2139840</td>\n      <td>1908094</td>\n      <td>0.000238</td>\n      <td>0.000428</td>\n      <td>0.000173</td>\n    </tr>\n    <tr>\n      <th>1</th>\n      <td>primaria</td>\n      <td>4867776261</td>\n      <td>4829358830</td>\n      <td>4853827849</td>\n      <td>0.486778</td>\n      <td>0.965872</td>\n      <td>0.441257</td>\n    </tr>\n    <tr>\n      <th>2</th>\n      <td>secundaria</td>\n      <td>960239074</td>\n      <td>962618839</td>\n      <td>953348351</td>\n      <td>0.096024</td>\n      <td>0.192524</td>\n      <td>0.086668</td>\n    </tr>\n    <tr>\n      <th>3</th>\n      <td>tecnic_tecnologico</td>\n      <td>276266</td>\n      <td>190999</td>\n      <td>84655</td>\n      <td>0.000028</td>\n      <td>0.000038</td>\n      <td>0.000008</td>\n    </tr>\n    <tr>\n      <th>4</th>\n      <td>tecnico_tecnologico</td>\n      <td>3390583970</td>\n      <td>3375557244</td>\n      <td>3376652782</td>\n      <td>0.339058</td>\n      <td>0.675111</td>\n      <td>0.306968</td>\n    </tr>\n  </tbody>\n</table>\n</div>"
     },
     "metadata": {}
    }
   ],
   "execution_count": null
  },
  {
   "cell_type": "code",
   "source": "## Agrupacion Gestionable\nCuota_Monetaria_Genero = df_prueba.groupby(['Gestionable'])['cuota_monetaria'].sum().reset_index(name = 'Total Cuota Monetaria')\nSub_vivienda_Genero = df_prueba.groupby(['Gestionable'])['sub_vivenda'].sum().reset_index(name = 'Total Subsidio Vivienda')\nBono_lonchera_Genero = df_prueba.groupby(['Gestionable'])['bono_lonchera'].sum().reset_index(name = 'Total Bono Lonchera')\n\n## Join de datos\nunion1 = pd.merge(Cuota_Monetaria_Genero,Sub_vivienda_Genero, on='Gestionable')\nunionTotal = pd.merge(union1,Bono_lonchera_Genero, on='Gestionable')\n\n## Creacion de Columna %\nunionTotal = unionTotal.assign(Por_CuotaMonetaria = lambda x: unionTotal['Total Cuota Monetaria']/10000000000)\nunionTotal = unionTotal.assign(Por_SubVivienda = lambda x: unionTotal['Total Subsidio Vivienda']/5000000000)\nunionTotal = unionTotal.assign(Por_BonoLonchera = lambda x: unionTotal['Total Bono Lonchera']/11000000000)\n\n\nunionTotal",
   "metadata": {
    "cell_id": "aba208ccc3e6466794e7961cdac89dae",
    "tags": [],
    "deepnote_to_be_reexecuted": false,
    "source_hash": "b0c4e476",
    "execution_start": 1659307350279,
    "execution_millis": 54,
    "deepnote_cell_type": "code",
    "deepnote_cell_height": 682
   },
   "outputs": [
    {
     "output_type": "execute_result",
     "execution_count": 19,
     "data": {
      "application/vnd.deepnote.dataframe.v3+json": {
       "column_count": 7,
       "row_count": 5,
       "columns": [
        {
         "name": "Gestionable",
         "dtype": "object",
         "stats": {
          "unique_count": 5,
          "nan_count": 0,
          "categories": [
           {
            "name": "GESTIONABLE",
            "count": 1
           },
           {
            "name": "Gestionable",
            "count": 1
           },
           {
            "name": "3 others",
            "count": 3
           }
          ]
         }
        },
        {
         "name": "Total Cuota Monetaria",
         "dtype": "int64",
         "stats": {
          "unique_count": 5,
          "nan_count": 0,
          "min": "319994",
          "max": "133963639",
          "histogram": [
           {
            "bin_start": 319994,
            "bin_end": 13684358.5,
            "count": 2
           },
           {
            "bin_start": 13684358.5,
            "bin_end": 27048723,
            "count": 0
           },
           {
            "bin_start": 27048723,
            "bin_end": 40413087.5,
            "count": 0
           },
           {
            "bin_start": 40413087.5,
            "bin_end": 53777452,
            "count": 1
           },
           {
            "bin_start": 53777452,
            "bin_end": 67141816.5,
            "count": 0
           },
           {
            "bin_start": 67141816.5,
            "bin_end": 80506181,
            "count": 1
           },
           {
            "bin_start": 80506181,
            "bin_end": 93870545.5,
            "count": 0
           },
           {
            "bin_start": 93870545.5,
            "bin_end": 107234910,
            "count": 0
           },
           {
            "bin_start": 107234910,
            "bin_end": 120599274.5,
            "count": 0
           },
           {
            "bin_start": 120599274.5,
            "bin_end": 133963639,
            "count": 1
           }
          ]
         }
        },
        {
         "name": "Total Subsidio Vivienda",
         "dtype": "int64",
         "stats": {
          "unique_count": 5,
          "nan_count": 0,
          "min": "241911",
          "max": "135304959",
          "histogram": [
           {
            "bin_start": 241911,
            "bin_end": 13748215.8,
            "count": 2
           },
           {
            "bin_start": 13748215.8,
            "bin_end": 27254520.6,
            "count": 0
           },
           {
            "bin_start": 27254520.6,
            "bin_end": 40760825.400000006,
            "count": 0
           },
           {
            "bin_start": 40760825.400000006,
            "bin_end": 54267130.2,
            "count": 1
           },
           {
            "bin_start": 54267130.2,
            "bin_end": 67773435,
            "count": 0
           },
           {
            "bin_start": 67773435,
            "bin_end": 81279739.80000001,
            "count": 1
           },
           {
            "bin_start": 81279739.80000001,
            "bin_end": 94786044.60000001,
            "count": 0
           },
           {
            "bin_start": 94786044.60000001,
            "bin_end": 108292349.4,
            "count": 0
           },
           {
            "bin_start": 108292349.4,
            "bin_end": 121798654.2,
            "count": 0
           },
           {
            "bin_start": 121798654.2,
            "bin_end": 135304959,
            "count": 1
           }
          ]
         }
        },
        {
         "name": "Total Bono Lonchera",
         "dtype": "int64",
         "stats": {
          "unique_count": 5,
          "nan_count": 0,
          "min": "319743",
          "max": "135311297",
          "histogram": [
           {
            "bin_start": 319743,
            "bin_end": 13818898.4,
            "count": 2
           },
           {
            "bin_start": 13818898.4,
            "bin_end": 27318053.8,
            "count": 0
           },
           {
            "bin_start": 27318053.8,
            "bin_end": 40817209.2,
            "count": 0
           },
           {
            "bin_start": 40817209.2,
            "bin_end": 54316364.6,
            "count": 1
           },
           {
            "bin_start": 54316364.6,
            "bin_end": 67815520,
            "count": 0
           },
           {
            "bin_start": 67815520,
            "bin_end": 81314675.4,
            "count": 1
           },
           {
            "bin_start": 81314675.4,
            "bin_end": 94813830.8,
            "count": 0
           },
           {
            "bin_start": 94813830.8,
            "bin_end": 108312986.2,
            "count": 0
           },
           {
            "bin_start": 108312986.2,
            "bin_end": 121812141.60000001,
            "count": 0
           },
           {
            "bin_start": 121812141.60000001,
            "bin_end": 135311297,
            "count": 1
           }
          ]
         }
        },
        {
         "name": "Por_CuotaMonetaria",
         "dtype": "float64",
         "stats": {
          "unique_count": 5,
          "nan_count": 0,
          "min": "3.19994e-05",
          "max": "0.0133963639",
          "histogram": [
           {
            "bin_start": 0.0000319994,
            "bin_end": 0.00136843585,
            "count": 2
           },
           {
            "bin_start": 0.00136843585,
            "bin_end": 0.0027048723,
            "count": 0
           },
           {
            "bin_start": 0.0027048723,
            "bin_end": 0.00404130875,
            "count": 0
           },
           {
            "bin_start": 0.00404130875,
            "bin_end": 0.0053777452,
            "count": 1
           },
           {
            "bin_start": 0.0053777452,
            "bin_end": 0.00671418165,
            "count": 0
           },
           {
            "bin_start": 0.00671418165,
            "bin_end": 0.0080506181,
            "count": 1
           },
           {
            "bin_start": 0.0080506181,
            "bin_end": 0.00938705455,
            "count": 0
           },
           {
            "bin_start": 0.00938705455,
            "bin_end": 0.010723491,
            "count": 0
           },
           {
            "bin_start": 0.010723491,
            "bin_end": 0.01205992745,
            "count": 0
           },
           {
            "bin_start": 0.01205992745,
            "bin_end": 0.0133963639,
            "count": 1
           }
          ]
         }
        },
        {
         "name": "Por_SubVivienda",
         "dtype": "float64",
         "stats": {
          "unique_count": 5,
          "nan_count": 0,
          "min": "4.83822e-05",
          "max": "0.0270609918",
          "histogram": [
           {
            "bin_start": 0.0000483822,
            "bin_end": 0.00274964316,
            "count": 2
           },
           {
            "bin_start": 0.00274964316,
            "bin_end": 0.00545090412,
            "count": 0
           },
           {
            "bin_start": 0.00545090412,
            "bin_end": 0.00815216508,
            "count": 0
           },
           {
            "bin_start": 0.00815216508,
            "bin_end": 0.010853426040000001,
            "count": 1
           },
           {
            "bin_start": 0.010853426040000001,
            "bin_end": 0.013554687000000001,
            "count": 0
           },
           {
            "bin_start": 0.013554687000000001,
            "bin_end": 0.01625594796,
            "count": 1
           },
           {
            "bin_start": 0.01625594796,
            "bin_end": 0.01895720892,
            "count": 0
           },
           {
            "bin_start": 0.01895720892,
            "bin_end": 0.02165846988,
            "count": 0
           },
           {
            "bin_start": 0.02165846988,
            "bin_end": 0.02435973084,
            "count": 0
           },
           {
            "bin_start": 0.02435973084,
            "bin_end": 0.0270609918,
            "count": 1
           }
          ]
         }
        },
        {
         "name": "Por_BonoLonchera",
         "dtype": "float64",
         "stats": {
          "unique_count": 5,
          "nan_count": 0,
          "min": "2.9067545454545454e-05",
          "max": "0.012301027",
          "histogram": [
           {
            "bin_start": 0.000029067545454545454,
            "bin_end": 0.001256263490909091,
            "count": 2
           },
           {
            "bin_start": 0.001256263490909091,
            "bin_end": 0.0024834594363636366,
            "count": 0
           },
           {
            "bin_start": 0.0024834594363636366,
            "bin_end": 0.003710655381818182,
            "count": 0
           },
           {
            "bin_start": 0.003710655381818182,
            "bin_end": 0.004937851327272727,
            "count": 1
           },
           {
            "bin_start": 0.004937851327272727,
            "bin_end": 0.006165047272727273,
            "count": 0
           },
           {
            "bin_start": 0.006165047272727273,
            "bin_end": 0.007392243218181818,
            "count": 1
           },
           {
            "bin_start": 0.007392243218181818,
            "bin_end": 0.008619439163636364,
            "count": 0
           },
           {
            "bin_start": 0.008619439163636364,
            "bin_end": 0.00984663510909091,
            "count": 0
           },
           {
            "bin_start": 0.00984663510909091,
            "bin_end": 0.011073831054545454,
            "count": 0
           },
           {
            "bin_start": 0.011073831054545454,
            "bin_end": 0.012301027,
            "count": 1
           }
          ]
         }
        },
        {
         "name": "_deepnote_index_column",
         "dtype": "int64"
        }
       ],
       "rows": [
        {
         "Gestionable": "GESTIONABLE",
         "Total Cuota Monetaria": 774168,
         "Total Subsidio Vivienda": 715628,
         "Total Bono Lonchera": 841003,
         "Por_CuotaMonetaria": 0.0000774168,
         "Por_SubVivienda": 0.0001431256,
         "Por_BonoLonchera": 0.00007645481818181818,
         "_deepnote_index_column": 0
        },
        {
         "Gestionable": "Gestionable",
         "Total Cuota Monetaria": 133963639,
         "Total Subsidio Vivienda": 135304959,
         "Total Bono Lonchera": 135311297,
         "Por_CuotaMonetaria": 0.0133963639,
         "Por_SubVivienda": 0.0270609918,
         "Por_BonoLonchera": 0.012301027,
         "_deepnote_index_column": 1
        },
        {
         "Gestionable": "NO GESTIONABLE",
         "Total Cuota Monetaria": 319994,
         "Total Subsidio Vivienda": 241911,
         "Total Bono Lonchera": 319743,
         "Por_CuotaMonetaria": 0.0000319994,
         "Por_SubVivienda": 0.0000483822,
         "Por_BonoLonchera": 0.000029067545454545454,
         "_deepnote_index_column": 2
        },
        {
         "Gestionable": "No Gestionable",
         "Total Cuota Monetaria": 46207933,
         "Total Subsidio Vivienda": 48640472,
         "Total Bono Lonchera": 49500198,
         "Por_CuotaMonetaria": 0.0046207933,
         "Por_SubVivienda": 0.0097280944,
         "Por_BonoLonchera": 0.004500018,
         "_deepnote_index_column": 3
        },
        {
         "Gestionable": "No gestionable",
         "Total Cuota Monetaria": 73851406,
         "Total Subsidio Vivienda": 73886151,
         "Total Bono Lonchera": 69497585,
         "Por_CuotaMonetaria": 0.0073851406,
         "Por_SubVivienda": 0.0147772302,
         "Por_BonoLonchera": 0.006317962272727273,
         "_deepnote_index_column": 4
        }
       ]
      },
      "text/plain": "      Gestionable  Total Cuota Monetaria  Total Subsidio Vivienda  \\\n0     GESTIONABLE                 774168                   715628   \n1     Gestionable              133963639                135304959   \n2  NO GESTIONABLE                 319994                   241911   \n3  No Gestionable               46207933                 48640472   \n4  No gestionable               73851406                 73886151   \n\n   Total Bono Lonchera  Por_CuotaMonetaria  Por_SubVivienda  Por_BonoLonchera  \n0               841003            0.000077         0.000143          0.000076  \n1            135311297            0.013396         0.027061          0.012301  \n2               319743            0.000032         0.000048          0.000029  \n3             49500198            0.004621         0.009728          0.004500  \n4             69497585            0.007385         0.014777          0.006318  ",
      "text/html": "<div>\n<style scoped>\n    .dataframe tbody tr th:only-of-type {\n        vertical-align: middle;\n    }\n\n    .dataframe tbody tr th {\n        vertical-align: top;\n    }\n\n    .dataframe thead th {\n        text-align: right;\n    }\n</style>\n<table border=\"1\" class=\"dataframe\">\n  <thead>\n    <tr style=\"text-align: right;\">\n      <th></th>\n      <th>Gestionable</th>\n      <th>Total Cuota Monetaria</th>\n      <th>Total Subsidio Vivienda</th>\n      <th>Total Bono Lonchera</th>\n      <th>Por_CuotaMonetaria</th>\n      <th>Por_SubVivienda</th>\n      <th>Por_BonoLonchera</th>\n    </tr>\n  </thead>\n  <tbody>\n    <tr>\n      <th>0</th>\n      <td>GESTIONABLE</td>\n      <td>774168</td>\n      <td>715628</td>\n      <td>841003</td>\n      <td>0.000077</td>\n      <td>0.000143</td>\n      <td>0.000076</td>\n    </tr>\n    <tr>\n      <th>1</th>\n      <td>Gestionable</td>\n      <td>133963639</td>\n      <td>135304959</td>\n      <td>135311297</td>\n      <td>0.013396</td>\n      <td>0.027061</td>\n      <td>0.012301</td>\n    </tr>\n    <tr>\n      <th>2</th>\n      <td>NO GESTIONABLE</td>\n      <td>319994</td>\n      <td>241911</td>\n      <td>319743</td>\n      <td>0.000032</td>\n      <td>0.000048</td>\n      <td>0.000029</td>\n    </tr>\n    <tr>\n      <th>3</th>\n      <td>No Gestionable</td>\n      <td>46207933</td>\n      <td>48640472</td>\n      <td>49500198</td>\n      <td>0.004621</td>\n      <td>0.009728</td>\n      <td>0.004500</td>\n    </tr>\n    <tr>\n      <th>4</th>\n      <td>No gestionable</td>\n      <td>73851406</td>\n      <td>73886151</td>\n      <td>69497585</td>\n      <td>0.007385</td>\n      <td>0.014777</td>\n      <td>0.006318</td>\n    </tr>\n  </tbody>\n</table>\n</div>"
     },
     "metadata": {}
    }
   ],
   "execution_count": null
  },
  {
   "cell_type": "markdown",
   "source": "<a style='text-decoration:none;line-height:16px;display:flex;color:#5B5B62;padding:10px;justify-content:end;' href='https://deepnote.com?utm_source=created-in-deepnote-cell&projectId=ff2c00f2-e65d-4b06-9e2c-17e6644f2756' target=\"_blank\">\n<img alt='Created in deepnote.com' style='display:inline;max-height:16px;margin:0px;margin-right:7.5px;' src='data:image/svg+xml;base64,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' > </img>\nCreated in <span style='font-weight:600;margin-left:4px;'>Deepnote</span></a>",
   "metadata": {
    "tags": [],
    "created_in_deepnote_cell": true,
    "deepnote_cell_type": "markdown"
   }
  }
 ],
 "nbformat": 4,
 "nbformat_minor": 2,
 "metadata": {
  "orig_nbformat": 2,
  "deepnote": {},
  "deepnote_notebook_id": "57fdcd71-0bc3-4fdb-a413-767bfbc7dee8",
  "deepnote_execution_queue": []
 }
}